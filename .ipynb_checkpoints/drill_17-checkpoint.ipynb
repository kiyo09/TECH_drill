{
 "cells": [
  {
   "cell_type": "markdown",
   "metadata": {},
   "source": [
    "# デイリードリル17"
   ]
  },
  {
   "cell_type": "markdown",
   "metadata": {},
   "source": [
    "## 問題\n",
    "⑴以下のハッシュに対してメソッドを使用し、キーだけを1つの配列に入れてください。\n",
    "\n",
    "attr = {name: \"田中\", age: 27, height: 180, weight: 75}  \n",
    "  \n",
    "  \n",
    "  \n",
    "⑵以下のメソッドの中には、Rubyには元々存在しない、Railsとその周辺のライブラリが提供しているメソッドが含まれています。\n",
    "\n",
    "どのようなサイトを参照すればよいかを考え、Rubyには含まれていないメソッドを答えてください。\n",
    "\n",
    "またフィードバック用に、参照したサイトのURLを記入してください。\n",
    "\n",
    "inject, map, try, send, include?, pluck, select, blank?, empty?, presence"
   ]
  },
  {
   "cell_type": "markdown",
   "metadata": {},
   "source": [
    "## 解答"
   ]
  },
  {
   "cell_type": "code",
   "execution_count": 3,
   "metadata": {
    "scrolled": true
   },
   "outputs": [
    {
     "data": {
      "text/plain": [
       "[:name, :age, :height, :weight]"
      ]
     },
     "execution_count": 3,
     "metadata": {},
     "output_type": "execute_result"
    }
   ],
   "source": [
    "attr = {name: \"田中\", age: 27, height: 180, weight: 75}\n",
    "attr.keys"
   ]
  },
  {
   "cell_type": "markdown",
   "metadata": {},
   "source": [
    "・try  \n",
    "・pluck  \n",
    "・blank?  \n",
    "・presence  \n",
    "http://miyamae.github.io/rubydoc-ja/2.4.0/#!/doc/index.html  \n",
    "など"
   ]
  }
 ],
 "metadata": {
  "kernelspec": {
   "display_name": "Ruby 2.5.1",
   "language": "ruby",
   "name": "ruby"
  },
  "language_info": {
   "file_extension": ".rb",
   "mimetype": "application/x-ruby",
   "name": "ruby",
   "version": "2.5.1"
  }
 },
 "nbformat": 4,
 "nbformat_minor": 4
}
