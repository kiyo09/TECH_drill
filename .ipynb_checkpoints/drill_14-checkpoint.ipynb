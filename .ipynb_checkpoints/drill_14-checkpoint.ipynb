{
 "cells": [
  {
   "cell_type": "markdown",
   "metadata": {},
   "source": [
    "# デイリードリル14"
   ]
  },
  {
   "cell_type": "markdown",
   "metadata": {},
   "source": [
    "## Rails問題（その他）\n",
    "\n",
    "以下の記事を読んでください。\n",
    "この中で、Railsで効果的なデバッグを行うためのポイントを３点ピックアップし、それぞれについて箇条書きで述べてください。  \n",
    "  \n",
    "https://qiita.com/jnchito/items/056325421b7e36f02335"
   ]
  },
  {
   "cell_type": "markdown",
   "metadata": {},
   "source": [
    "## 解答"
   ]
  },
  {
   "cell_type": "markdown",
   "metadata": {},
   "source": [
    "⑴正確な情報を把握するため、ドキュメントやissueもちゃんと読みましょう。  \n",
    "⑵エラータイプやエラーメッセージでググる  \n",
    "⑶コードを触る前にまず、どこにエラーの原因があるのか、当たりを付ける。  "
   ]
  },
  {
   "cell_type": "markdown",
   "metadata": {},
   "source": [
    "## 模範解答\n",
    "・エラーメッセージは英語で出力されるが必ず読み、わからなければ意味を調べる。\n",
    "\n",
    "・やみくもに直そうとせず、仮説を立ててからデバッグを行う。\n",
    "\n",
    "・あらかじめ時間を区切ってデバッグを行い、その時間を経過したら人に相談する。\n",
    "\n",
    "など。"
   ]
  }
 ],
 "metadata": {
  "kernelspec": {
   "display_name": "Ruby 2.5.1",
   "language": "ruby",
   "name": "ruby"
  },
  "language_info": {
   "file_extension": ".rb",
   "mimetype": "application/x-ruby",
   "name": "ruby",
   "version": "2.5.1"
  }
 },
 "nbformat": 4,
 "nbformat_minor": 4
}
