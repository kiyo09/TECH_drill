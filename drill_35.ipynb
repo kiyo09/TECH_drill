{
 "cells": [
  {
   "cell_type": "markdown",
   "metadata": {},
   "source": [
    "# デイリードリル35"
   ]
  },
  {
   "cell_type": "markdown",
   "metadata": {},
   "source": [
    "## 問題"
   ]
  },
  {
   "cell_type": "markdown",
   "metadata": {},
   "source": [
    "クラスの定義は、一般的には以下の記述が用いられます。\n",
    "\n",
    "```\n",
    "class User\n",
    "  # ブロックの内部で各種メソッドを定義\n",
    "end\n",
    "```\n",
    "\n",
    "しかしながら、この記述法以外にも、Rubyにはクラスを定義する方法が用意されています。  \n",
    "①上記のclass クラス名 end;という記述を用いないで、Tweetというクラスを定義してください。  \n",
    "  \n",
    "  \n",
    "②①で解答した方法で、クラスを定義する際のメリットを１つ説明してください。"
   ]
  },
  {
   "cell_type": "markdown",
   "metadata": {},
   "source": [
    "## 解答"
   ]
  },
  {
   "cell_type": "code",
   "execution_count": null,
   "metadata": {},
   "outputs": [],
   "source": [
    "例①\n",
    "\n",
    "Tweet = Class.new do\n",
    "# ブロックの内部で各種メソッドを定義\n",
    "end\n",
    "\n",
    "\n",
    "例②\n",
    "self.class.const_set :'Tweet', Class.new do \n",
    "  # ブロックの内部で各種メソッドを定義\n",
    "end"
   ]
  },
  {
   "cell_type": "code",
   "execution_count": null,
   "metadata": {},
   "outputs": [],
   "source": [
    "例①のメリット\n",
    "\n",
    "ブロックの外の変数が呼び出せる\n",
    "\n",
    "var = 'hogehoge'\n",
    "\n",
    "class Tweet\n",
    "  # classブロックの内部からは、ブロックの外で定義されたvarは呼び出せない\n",
    "  puts var\n",
    "end\n",
    "\n",
    "Tweet = Class.new do\n",
    "  # Class.newブロックの内部からは、varを呼び出すことができる\n",
    "  puts var\n",
    "end\n",
    "\n",
    "\n",
    "例②のメリット\n",
    "\n",
    "クラスを動的に定義できる\n",
    "\n",
    "class Product\n",
    "  def self.create_new_class(class_name)\n",
    "    # 引数の値に応じて、クラスを作成する\n",
    "    self.class.const_set :\"#{class_name}\", Class.new\n",
    "  end\n",
    "end"
   ]
  }
 ],
 "metadata": {
  "kernelspec": {
   "display_name": "Ruby 2.5.1",
   "language": "ruby",
   "name": "ruby"
  },
  "language_info": {
   "file_extension": ".rb",
   "mimetype": "application/x-ruby",
   "name": "ruby",
   "version": "2.5.1"
  }
 },
 "nbformat": 4,
 "nbformat_minor": 4
}
