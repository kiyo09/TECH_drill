{
 "cells": [
  {
   "cell_type": "markdown",
   "metadata": {},
   "source": [
    "# デイリードリル22"
   ]
  },
  {
   "cell_type": "markdown",
   "metadata": {},
   "source": [
    "## 問題"
   ]
  },
  {
   "cell_type": "markdown",
   "metadata": {},
   "source": [
    "1 次のif文をunlessを用いて書き換えてください。\n",
    "\n",
    "```\n",
    "if a + b > 0\n",
    "  puts \"計算結果は0より大きいです\"\n",
    "end\n",
    "```\n",
    "\n",
    "2 以下のように、果物の名前と値段が入った配列があります。\n",
    "この配列を用いて、果物の名前とそれぞれの合計額が出力される\n",
    "コードを記述してください。\n",
    "```\n",
    "fruits_price = [[\"apple\", [200, 250, 220]], [\"orange\", [100, 120, 80]], [\"melon\", [1200, 1500]]]\n",
    "（出力）\n",
    "appleの合計金額は670円です\n",
    "orangeの合計金額は300円です\n",
    "melonの合計金額は2700円です\n",
    "```"
   ]
  },
  {
   "cell_type": "code",
   "execution_count": 4,
   "metadata": {},
   "outputs": [
    {
     "name": "stdout",
     "output_type": "stream",
     "text": [
      "計算結果は0より大きいです\n"
     ]
    }
   ],
   "source": [
    "a = 2\n",
    "b = 1\n",
    "unless a + b <= 0\n",
    "  puts \"計算結果は0より大きいです\"\n",
    "end"
   ]
  },
  {
   "cell_type": "code",
   "execution_count": 20,
   "metadata": {},
   "outputs": [
    {
     "name": "stdout",
     "output_type": "stream",
     "text": [
      "appleの合計金額は670です\n",
      "orangeの合計金額は300です\n",
      "melonの合計金額は2700です\n"
     ]
    }
   ],
   "source": [
    "fruits_price = [[\"apple\", [200, 250, 220]], [\"orange\", [100, 120, 80]], [\"melon\", [1200, 1500]]]\n",
    "\n",
    "puts \"#{fruits_price[0][0]}の合計金額は#{fruits_price[0][1].sum}です\"\n",
    "puts \"#{fruits_price[1][0]}の合計金額は#{fruits_price[1][1].sum}です\"\n",
    "puts \"#{fruits_price[2][0]}の合計金額は#{fruits_price[2][1].sum}です\""
   ]
  },
  {
   "cell_type": "markdown",
   "metadata": {},
   "source": [
    "## 模範解答"
   ]
  },
  {
   "cell_type": "code",
   "execution_count": 26,
   "metadata": {},
   "outputs": [
    {
     "name": "stdout",
     "output_type": "stream",
     "text": [
      "appleの合計金額は670円です\n",
      "orangeの合計金額は300円です\n",
      "melonの合計金額は2700円です\n"
     ]
    },
    {
     "data": {
      "text/plain": [
       "[[\"apple\", [200, 250, 220]], [\"orange\", [100, 120, 80]], [\"melon\", [1200, 1500]]]"
      ]
     },
     "execution_count": 26,
     "metadata": {},
     "output_type": "execute_result"
    }
   ],
   "source": [
    "fruits_price = [[\"apple\", [200, 250, 220]], [\"orange\", [100, 120, 80]], [\"melon\", [1200, 1500]]]\n",
    "prices = []\n",
    "fruits_price.each do | fruit |\n",
    "  sum = 0\n",
    "  fruit[1].each do |price|\n",
    "    sum += price\n",
    "  end\n",
    "  puts \"#{fruit[0]}の合計金額は#{sum}円です\"\n",
    "end"
   ]
  }
 ],
 "metadata": {
  "kernelspec": {
   "display_name": "Ruby 2.5.1",
   "language": "ruby",
   "name": "ruby"
  },
  "language_info": {
   "file_extension": ".rb",
   "mimetype": "application/x-ruby",
   "name": "ruby",
   "version": "2.5.1"
  }
 },
 "nbformat": 4,
 "nbformat_minor": 4
}
