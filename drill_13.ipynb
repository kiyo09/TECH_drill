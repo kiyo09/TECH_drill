{
 "cells": [
  {
   "cell_type": "markdown",
   "metadata": {},
   "source": [
    "# デイリードリル13"
   ]
  },
  {
   "cell_type": "markdown",
   "metadata": {},
   "source": [
    "## Rails問題（コントローラー）\n",
    "\n",
    "⑴ストロングパラメータは、MassAsignmentの脆弱性を突く攻撃に対処するための仕組みです。この攻撃はどのようなものか簡潔に述べてください。  \n",
    "  \n",
    "⑵この攻撃はChromeを使うと簡単に行うことができますが、その手順について説明してください。"
   ]
  },
  {
   "cell_type": "markdown",
   "metadata": {},
   "source": [
    "## 解答"
   ]
  },
  {
   "cell_type": "markdown",
   "metadata": {},
   "source": [
    "⑴クラッカー(悪意のある者)が、Webアプリケーションに不正な情報を送ろうとする\n",
    "  \n",
    "⑵検証ツールから変更"
   ]
  },
  {
   "cell_type": "markdown",
   "metadata": {},
   "source": [
    "## 模範解答"
   ]
  },
  {
   "cell_type": "markdown",
   "metadata": {},
   "source": [
    "⑴フォームが送信するparamsの内容を改ざんするなどして、開発者が意図していないデータをDBに保存させる攻撃。  \n",
    "  \n",
    "⑵\n",
    "（Pictweetでの例）\n",
    "\n",
    "・tweetの投稿画面で検証ツールを開く。  \n",
    "・テキストフィールドのフォームを選択する。  \n",
    "・表示されたHTMLタグのname属性の内容を変更する。"
   ]
  },
  {
   "cell_type": "markdown",
   "metadata": {},
   "source": [
    "**<補足>**  \n",
    "このことで、どのような被害が出得るかご説明します。\n",
    "例えば、あるテーブルにadminカラムがあり、そこに1というフラグが立っていたら管理者だという設計になっていたとします。\n",
    "\n",
    "上記の手順でparamsのキーは変更できてしまいますので、本来はimageカラムに保存すべき内容をadminカラムに保存させることができます。\n",
    "\n",
    "そのため、テキストフィールドに1と入力すれば管理者になりすますことができてしまいます。\n",
    "\n",
    "このように、悪意をもってキーを書き換えたとしても、想定しているキー以外は弾く仕組みがストロングパラメータです。"
   ]
  }
 ],
 "metadata": {
  "kernelspec": {
   "display_name": "Ruby 2.5.1",
   "language": "ruby",
   "name": "ruby"
  },
  "language_info": {
   "file_extension": ".rb",
   "mimetype": "application/x-ruby",
   "name": "ruby",
   "version": "2.5.1"
  }
 },
 "nbformat": 4,
 "nbformat_minor": 4
}
