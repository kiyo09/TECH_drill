{
 "cells": [
  {
   "cell_type": "markdown",
   "metadata": {},
   "source": [
    "# デイリードリル07"
   ]
  },
  {
   "cell_type": "markdown",
   "metadata": {},
   "source": [
    "## 問題"
   ]
  },
  {
   "cell_type": "markdown",
   "metadata": {},
   "source": [
    "下記の結果になるよう、コードの記述を行なってください。\n",
    "\n",
    "１ 空のハッシュ hash を定義する  \n",
    "２ hashのキー 「:name」 に\"Suzuki\"を代入する  \n",
    "３ hashのキー 「:height」 に1.6を代入する  \n",
    "4 hashのキー 「:weight」 に60を代入する  \n",
    "5 hashのキー 「:bmi」 にBMIの結果を代入する（＊１）  \n",
    "6 ターミナルに以下の表示がされるようなコードを書く  \n",
    "\n",
    "name: Suzuki\n",
    "height: 1.6\n",
    "weight: 60\n",
    "bmi: 23.4\n",
    "\n",
    "（＊１）BMIの計算方法は 体重(kg)　÷　身長(m) の二乗　とします。"
   ]
  },
  {
   "cell_type": "markdown",
   "metadata": {},
   "source": [
    "## 解答"
   ]
  },
  {
   "cell_type": "code",
   "execution_count": 4,
   "metadata": {},
   "outputs": [
    {
     "name": "stdout",
     "output_type": "stream",
     "text": [
      "name: Suzuki\n",
      "height: 1.6\n",
      "weight: 60\n",
      "bmi: 23.4\n"
     ]
    },
    {
     "data": {
      "text/plain": [
       "{:name=>\"Suzuki\", :height=>1.6, :weight=>60, :bmi=>23.4}"
      ]
     },
     "execution_count": 4,
     "metadata": {},
     "output_type": "execute_result"
    }
   ],
   "source": [
    "hash = {}\n",
    "hash[:name] = \"Suzuki\"\n",
    "hash[:height] = 1.6\n",
    "hash[:weight] = 60\n",
    "hash[:bmi] = (hash[:weight] / hash[:height] ** 2).round(1)\n",
    "hash.each do |key, value|\n",
    "puts \"#{key}: #{value}\"\n",
    "end"
   ]
  }
 ],
 "metadata": {
  "kernelspec": {
   "display_name": "Ruby 2.5.1",
   "language": "ruby",
   "name": "ruby"
  },
  "language_info": {
   "file_extension": ".rb",
   "mimetype": "application/x-ruby",
   "name": "ruby",
   "version": "2.5.1"
  }
 },
 "nbformat": 4,
 "nbformat_minor": 4
}
