{
 "cells": [
  {
   "cell_type": "markdown",
   "metadata": {},
   "source": [
    "# デイリードリル40"
   ]
  },
  {
   "cell_type": "markdown",
   "metadata": {},
   "source": [
    "## 問題"
   ]
  },
  {
   "cell_type": "markdown",
   "metadata": {},
   "source": [
    "このアプリケーションでは商品の名前と価格を登録することができます。\n",
    "\n",
    "例えば価格に1000にして登録すると、一覧画面で見たときに\n",
    "単に「1000」と表示されます。\n",
    "\n",
    "（問題）\n",
    "①ヘルパーメソッドconverting_to_jpyを作成してください。例えば「1000」という数値が引数で与えらたら「1,000円」といったように、「桁区切り」と「円」を追加するコードを実装してください。\n",
    "\n",
    "②index画面で表示する金額に対して①で作成したメソッドを使用してください。"
   ]
  },
  {
   "cell_type": "markdown",
   "metadata": {},
   "source": [
    "## 解答"
   ]
  },
  {
   "cell_type": "code",
   "execution_count": null,
   "metadata": {},
   "outputs": [
    {
     "ename": "NoMethodError",
     "evalue": "undefined method `price' for main:Object",
     "output_type": "error",
     "traceback": [
      "\u001b[31mNoMethodError\u001b[0m: undefined method `price' for main:Object",
      "(pry):22:in `converting_to_jpy'",
      "(pry):25:in `<main>'",
      "/Users/ishizakikiyohiko/.rbenv/versions/2.5.1/lib/ruby/gems/2.5.0/gems/pry-0.13.1/lib/pry/pry_instance.rb:290:in `eval'",
      "/Users/ishizakikiyohiko/.rbenv/versions/2.5.1/lib/ruby/gems/2.5.0/gems/pry-0.13.1/lib/pry/pry_instance.rb:290:in `evaluate_ruby'",
      "/Users/ishizakikiyohiko/.rbenv/versions/2.5.1/lib/ruby/gems/2.5.0/gems/pry-0.13.1/lib/pry/pry_instance.rb:659:in `handle_line'",
      "/Users/ishizakikiyohiko/.rbenv/versions/2.5.1/lib/ruby/gems/2.5.0/gems/pry-0.13.1/lib/pry/pry_instance.rb:261:in `block (2 levels) in eval'",
      "/Users/ishizakikiyohiko/.rbenv/versions/2.5.1/lib/ruby/gems/2.5.0/gems/pry-0.13.1/lib/pry/pry_instance.rb:260:in `catch'",
      "/Users/ishizakikiyohiko/.rbenv/versions/2.5.1/lib/ruby/gems/2.5.0/gems/pry-0.13.1/lib/pry/pry_instance.rb:260:in `block in eval'",
      "/Users/ishizakikiyohiko/.rbenv/versions/2.5.1/lib/ruby/gems/2.5.0/gems/pry-0.13.1/lib/pry/pry_instance.rb:259:in `catch'",
      "/Users/ishizakikiyohiko/.rbenv/versions/2.5.1/lib/ruby/gems/2.5.0/gems/pry-0.13.1/lib/pry/pry_instance.rb:259:in `eval'",
      "/Users/ishizakikiyohiko/.rbenv/versions/2.5.1/lib/ruby/gems/2.5.0/gems/iruby-0.4.0/lib/iruby/backend.rb:66:in `eval'",
      "/Users/ishizakikiyohiko/.rbenv/versions/2.5.1/lib/ruby/gems/2.5.0/gems/iruby-0.4.0/lib/iruby/backend.rb:12:in `eval'",
      "/Users/ishizakikiyohiko/.rbenv/versions/2.5.1/lib/ruby/gems/2.5.0/gems/iruby-0.4.0/lib/iruby/kernel.rb:90:in `execute_request'",
      "/Users/ishizakikiyohiko/.rbenv/versions/2.5.1/lib/ruby/gems/2.5.0/gems/iruby-0.4.0/lib/iruby/kernel.rb:49:in `dispatch'",
      "/Users/ishizakikiyohiko/.rbenv/versions/2.5.1/lib/ruby/gems/2.5.0/gems/iruby-0.4.0/lib/iruby/kernel.rb:38:in `run'",
      "/Users/ishizakikiyohiko/.rbenv/versions/2.5.1/lib/ruby/gems/2.5.0/gems/iruby-0.4.0/lib/iruby/command.rb:110:in `run_kernel'",
      "/Users/ishizakikiyohiko/.rbenv/versions/2.5.1/lib/ruby/gems/2.5.0/gems/iruby-0.4.0/lib/iruby/command.rb:40:in `run'",
      "/Users/ishizakikiyohiko/.rbenv/versions/2.5.1/lib/ruby/gems/2.5.0/gems/iruby-0.4.0/bin/iruby:5:in `<top (required)>'",
      "/Users/ishizakikiyohiko/.rbenv/versions/2.5.1/bin/iruby:23:in `load'",
      "/Users/ishizakikiyohiko/.rbenv/versions/2.5.1/bin/iruby:23:in `<main>'"
     ]
    }
   ],
   "source": [
    "def converting_to_jpy(price)\n",
    "  \"#{price.to_s(:delimited, delimiter: ',')}円\"\n",
    "end\n",
    "\n",
    "converting_to_jpy(1000)"
   ]
  },
  {
   "cell_type": "code",
   "execution_count": 64,
   "metadata": {
    "scrolled": true
   },
   "outputs": [
    {
     "data": {
      "text/plain": [
       ":converting_to_jpy"
      ]
     },
     "execution_count": 64,
     "metadata": {},
     "output_type": "execute_result"
    }
   ],
   "source": [
    "module ProductsHelper\n",
    "  def converting_to_jpy(price)\n",
    "    \"#{price.to_s(:delimited, delimiter: ',')}円\"\n",
    "  end\n",
    "end\n",
    "\n"
   ]
  },
  {
   "cell_type": "code",
   "execution_count": null,
   "metadata": {},
   "outputs": [],
   "source": [
    "<p id=\"notice\"><%= notice %></p>\n",
    "\n",
    "<h1>Products</h1>\n",
    "\n",
    "<table>\n",
    "  <thead>\n",
    "    <tr>\n",
    "      <th>Name</th>\n",
    "      <th>Price</th>\n",
    "      <th colspan=\"3\"></th>\n",
    "    </tr>\n",
    "  </thead>\n",
    "\n",
    "  <tbody>\n",
    "    <% @products.each do |product| %>\n",
    "      <tr>\n",
    "        <td><%= product.name %></td>\n",
    "        <td><%= converting_to_jpy(product.price) %></td>\n",
    "        <td><%= link_to 'Show', product %></td>\n",
    "        <td><%= link_to 'Edit', edit_product_path(product) %></td>\n",
    "        <td><%= link_to 'Destroy', product, method: :delete, data: { confirm: 'Are you sure?' } %></td>\n",
    "      </tr>\n",
    "    <% end %>\n",
    "  </tbody>\n",
    "</table>\n",
    "\n",
    "<br>\n",
    "\n",
    "<%= link_to 'New Product', new_product_path %>\n",
    "\n",
    "（18行目を修正）"
   ]
  }
 ],
 "metadata": {
  "kernelspec": {
   "display_name": "Ruby 2.5.1",
   "language": "ruby",
   "name": "ruby"
  },
  "language_info": {
   "file_extension": ".rb",
   "mimetype": "application/x-ruby",
   "name": "ruby",
   "version": "2.5.1"
  }
 },
 "nbformat": 4,
 "nbformat_minor": 4
}
