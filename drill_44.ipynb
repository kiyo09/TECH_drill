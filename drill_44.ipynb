{
 "cells": [
  {
   "cell_type": "markdown",
   "metadata": {},
   "source": [
    "# デイリードリル44"
   ]
  },
  {
   "cell_type": "markdown",
   "metadata": {},
   "source": [
    "## 問題"
   ]
  },
  {
   "cell_type": "markdown",
   "metadata": {},
   "source": [
    "class Article < ActiveRecord::Base  \n",
    "  belongs_to :user, dependent: :destroy   \n",
    "end  \n",
    "\n",
    "2行目の記述について、これは文法的にどのような意味か「引数」という言葉を用いて説明してください。"
   ]
  },
  {
   "cell_type": "markdown",
   "metadata": {},
   "source": [
    "tweetsコントローラ内で、showアクションが定義されています。\n",
    "5行目から9行目までの、respond_toブロックは、どのような処理を行なっているか、自分の言葉で説明してください。\n",
    "\n",
    "```\n",
    "tweets_controller.rb\n",
    "def index\n",
    "  @tweets = Tweet.all\n",
    "\n",
    "  respond_to do |format|\n",
    "    format.html # index.html.erb\n",
    "    format.json { render json: @tweets }\n",
    "    format.xml  { render xml:  @tweets }\n",
    "    format.yaml { render text: @tweets.to_yaml }\n",
    "  end\n",
    "end\n",
    "```"
   ]
  },
  {
   "cell_type": "markdown",
   "metadata": {},
   "source": [
    "## 解答"
   ]
  },
  {
   "cell_type": "markdown",
   "metadata": {},
   "source": [
    "①ユーザーに依存しており、消去によって関連して消えることを引数に記述している"
   ]
  },
  {
   "cell_type": "markdown",
   "metadata": {},
   "source": [
    "②送られてきたフォーマットに合わせて返信する"
   ]
  },
  {
   "cell_type": "markdown",
   "metadata": {},
   "source": [
    "## 模範解答"
   ]
  },
  {
   "cell_type": "markdown",
   "metadata": {},
   "source": [
    "belongs_toはメソッドであり、:userが第一引数、dependent: :destroyが第二引数となっている。\n",
    "\n",
    "第二引数の記述はハッシュの{}を省略した形で、{dependent: :destroy }を意味している。"
   ]
  },
  {
   "cell_type": "markdown",
   "metadata": {},
   "source": [
    "送られてきたリクエストによって、レスポンスを振り分けている。\n",
    "たとえば、/tweets.jsonというURLでページを開いた場合、json形式で変数@tweetsの中身が展開されます。"
   ]
  }
 ],
 "metadata": {
  "kernelspec": {
   "display_name": "Ruby 2.5.1",
   "language": "ruby",
   "name": "ruby"
  },
  "language_info": {
   "file_extension": ".rb",
   "mimetype": "application/x-ruby",
   "name": "ruby",
   "version": "2.5.1"
  }
 },
 "nbformat": 4,
 "nbformat_minor": 4
}
