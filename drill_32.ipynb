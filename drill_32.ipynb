{
 "cells": [
  {
   "cell_type": "markdown",
   "metadata": {},
   "source": [
    "# デイリードリル32"
   ]
  },
  {
   "cell_type": "markdown",
   "metadata": {},
   "source": [
    "## 問題"
   ]
  },
  {
   "cell_type": "markdown",
   "metadata": {},
   "source": [
    "FizzBuzzという言葉遊びがあります。1から数を数えていく際に、それが3の倍数だったら「Fizz」, 5の倍数だったら「Buzz」と言う、というものです。ただし、15の倍数の時は「FizzBuzz」と言います。\n",
    "\n",
    "例） 1, 2, Fizz, 4, Buzz, Fizz ,,,,\n",
    "\n",
    "このFizzBuzzを再現できるメソッドを作成してください。\n",
    "ただし、いくつまでカウントするか、引数で指定できるものとします。"
   ]
  },
  {
   "cell_type": "code",
   "execution_count": 2,
   "metadata": {},
   "outputs": [
    {
     "name": "stdout",
     "output_type": "stream",
     "text": [
      "1\n",
      "2\n",
      "Fizz\n",
      "4\n",
      "Buzz\n",
      "Fizz\n",
      "7\n",
      "8\n",
      "Fizz\n",
      "Buzz\n"
     ]
    },
    {
     "data": {
      "text/plain": [
       "1..10"
      ]
     },
     "execution_count": 2,
     "metadata": {},
     "output_type": "execute_result"
    }
   ],
   "source": [
    "def Fizz(num)\n",
    "  i = 1\n",
    "  for i in i..num do\n",
    "    if i % 3 == 0 && i % 5 == 0\n",
    "      puts \"FizzBuzz\"\n",
    "    elsif i % 5 == 0\n",
    "      puts \"Buzz\"\n",
    "    elsif i % 3 == 0\n",
    "      puts \"Fizz\"\n",
    "    else\n",
    "      puts i\n",
    "    end\n",
    "  end\n",
    "end\n",
    "\n",
    "Fizz(10)"
   ]
  },
  {
   "cell_type": "code",
   "execution_count": null,
   "metadata": {},
   "outputs": [],
   "source": []
  }
 ],
 "metadata": {
  "kernelspec": {
   "display_name": "Ruby 2.5.1",
   "language": "ruby",
   "name": "ruby"
  },
  "language_info": {
   "file_extension": ".rb",
   "mimetype": "application/x-ruby",
   "name": "ruby",
   "version": "2.5.1"
  }
 },
 "nbformat": 4,
 "nbformat_minor": 4
}
