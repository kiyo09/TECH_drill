{
 "cells": [
  {
   "cell_type": "markdown",
   "metadata": {},
   "source": [
    "# デイリードリル29"
   ]
  },
  {
   "cell_type": "markdown",
   "metadata": {},
   "source": [
    "## 問題"
   ]
  },
  {
   "cell_type": "markdown",
   "metadata": {},
   "source": [
    "配列の内部に、複数のユーザーの情報をハッシュとして持つ変数user_dataがあります。\n",
    "\n",
    "```\n",
    "user_data = [\n",
    "  {\n",
    "    user: {\n",
    "        profile: {\n",
    "            name: 'George'\n",
    "        }\n",
    "    }\n",
    "  },\n",
    "  {\n",
    "    user: {\n",
    "        profile: {\n",
    "          name: 'Alice'\n",
    "        }\n",
    "    }\n",
    "  },\n",
    "  {\n",
    "    user: {\n",
    "        profile: {\n",
    "            name: 'Taro'\n",
    "        }\n",
    "    }\n",
    "  }\n",
    "]\n",
    "```\n",
    "user_dataを利用して、全てのユーザーの名前だけが出力されるようにRubyでコーディングしてください。\n",
    "ただし、出力結果は次のようになるものとします。\n",
    "\n",
    "George  \n",
    "Alice  \n",
    "Taro  \n"
   ]
  },
  {
   "cell_type": "markdown",
   "metadata": {},
   "source": [
    "## 解答"
   ]
  },
  {
   "cell_type": "code",
   "execution_count": 21,
   "metadata": {},
   "outputs": [
    {
     "name": "stdout",
     "output_type": "stream",
     "text": [
      "George\n",
      "Alice\n",
      "Taro\n"
     ]
    },
    {
     "data": {
      "text/plain": [
       "[{:user=>{:profile=>{:name=>\"George\"}}}, {:user=>{:profile=>{:name=>\"Alice\"}}}, {:user=>{:profile=>{:name=>\"Taro\"}}}]"
      ]
     },
     "execution_count": 21,
     "metadata": {},
     "output_type": "execute_result"
    }
   ],
   "source": [
    "user_data = [\n",
    "  {\n",
    "    user: {\n",
    "        profile: {\n",
    "            name: 'George'\n",
    "        }\n",
    "    }\n",
    "  },\n",
    "  {\n",
    "    user: {\n",
    "        profile: {\n",
    "          name: 'Alice'\n",
    "        }\n",
    "    }\n",
    "  },\n",
    "  {\n",
    "    user: {\n",
    "        profile: {\n",
    "            name: 'Taro'\n",
    "        }\n",
    "    }\n",
    "  }\n",
    "]\n",
    "\n",
    "user_data.each do |data|\n",
    "  puts data[:user][:profile][:name]\n",
    "end"
   ]
  },
  {
   "cell_type": "markdown",
   "metadata": {},
   "source": [
    "## 別解"
   ]
  },
  {
   "cell_type": "code",
   "execution_count": null,
   "metadata": {},
   "outputs": [],
   "source": [
    "user_data.each{ |u| puts u.dig(:user, :profile, :name) }"
   ]
  },
  {
   "cell_type": "markdown",
   "metadata": {},
   "source": [
    "## 問題2"
   ]
  },
  {
   "cell_type": "code",
   "execution_count": 22,
   "metadata": {},
   "outputs": [
    {
     "name": "stdout",
     "output_type": "stream",
     "text": [
      "SyntaxError: unexpected tXSTRING_BEG, expecting end-of-input\n"
     ]
    }
   ],
   "source": [
    "以下のようなルーティングを定義した際に、tweetsコントローラのindexアクションについて、実際に生成されるURLはどのようになるか答えなさい。\n",
    "```\n",
    "namespace :admin do\n",
    "  namespece :users do\n",
    "    resources :tweets, only[:index]\n",
    "  end\n",
    "end\n",
    "```"
   ]
  },
  {
   "cell_type": "markdown",
   "metadata": {},
   "source": [
    "/admin/users/tweets"
   ]
  }
 ],
 "metadata": {
  "kernelspec": {
   "display_name": "Ruby 2.5.1",
   "language": "ruby",
   "name": "ruby"
  },
  "language_info": {
   "file_extension": ".rb",
   "mimetype": "application/x-ruby",
   "name": "ruby",
   "version": "2.5.1"
  }
 },
 "nbformat": 4,
 "nbformat_minor": 4
}
