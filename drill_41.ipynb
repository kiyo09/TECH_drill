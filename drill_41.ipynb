{
 "cells": [
  {
   "cell_type": "markdown",
   "metadata": {},
   "source": [
    "# デイリードリル41"
   ]
  },
  {
   "cell_type": "markdown",
   "metadata": {},
   "source": [
    "## 問題"
   ]
  },
  {
   "cell_type": "markdown",
   "metadata": {},
   "source": [
    "Railsアプリで管理者ページを作ろうと考えています。\n",
    "\n",
    "通常コントローラーはapp/controllersフォルダに置きます。しかし、管理者機能用のコントローラーは、controllersフォルダに、adminというフォルダを作成しその中にまとめた方が整理しやすいと考えました。\n",
    "\n",
    "①この場合、Railsのある機能を使うと適切なルーティングを作成することができます。その機能の名前を答えてください。  \n",
    "  \n",
    "②上記の内容にしたがって、adminフォルダにproductsコントローラー（アクションはindexのみ）を作成します。その時のコントローラーおよびroutes.rbにどのような記述が必要か答えてください。"
   ]
  },
  {
   "cell_type": "markdown",
   "metadata": {},
   "source": [
    "## 解答"
   ]
  },
  {
   "cell_type": "markdown",
   "metadata": {},
   "source": [
    "namespace（名前空間）あるいはmodule"
   ]
  },
  {
   "cell_type": "code",
   "execution_count": null,
   "metadata": {},
   "outputs": [],
   "source": [
    "class Admin::ProductsController < ApplicationController\n",
    "  def index\n",
    "  end\n",
    "end"
   ]
  },
  {
   "cell_type": "code",
   "execution_count": null,
   "metadata": {},
   "outputs": [],
   "source": [
    "namespace :admin do\n",
    "    resources :products, only: :index\n",
    "  end"
   ]
  }
 ],
 "metadata": {
  "kernelspec": {
   "display_name": "Ruby 2.5.1",
   "language": "ruby",
   "name": "ruby"
  },
  "language_info": {
   "file_extension": ".rb",
   "mimetype": "application/x-ruby",
   "name": "ruby",
   "version": "2.5.1"
  }
 },
 "nbformat": 4,
 "nbformat_minor": 4
}
