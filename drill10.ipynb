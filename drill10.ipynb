{
 "cells": [
  {
   "cell_type": "markdown",
   "metadata": {},
   "source": [
    "# デイリードリル10"
   ]
  },
  {
   "cell_type": "markdown",
   "metadata": {},
   "source": [
    "## 問題"
   ]
  },
  {
   "cell_type": "markdown",
   "metadata": {},
   "source": [
    "Rails問題（モデル）\n",
    "\n",
    "⑴Railsに用意されている「ORM」とはどのような機能か説明してください。  \n",
    "\n",
    "⑵database.ymlファイルの主な役割を２つ述べてください。  \n",
    "\n",
    "⑶１つの記事に複数の画像を投稿できるアプリをつくるとします。その時のテーブル設計として、articlesテーブルに、picture1, picture2, picture3というカラムを作成することはしません。その理由と、どう設計すべきか説明してください。"
   ]
  },
  {
   "cell_type": "markdown",
   "metadata": {},
   "source": [
    "## 解答"
   ]
  },
  {
   "cell_type": "markdown",
   "metadata": {},
   "source": [
    "⑴ORM機能とは、(オブジェクト/リレーショナルマッピング)   \n",
    "SQL文を書く代わりに非常に短いコードで、データベースの読み書きを行える機能  \n",
    "\n",
    "⑵・rake db:createのコマンドを実行した時に作成されるデータベースの名称を指定する。\n",
    "・RailsアプリケーションがSQLサーバーにアクセスするときのソケットファイルの位置を指定する。\n",
    "  \n",
    "⑶・4枚以上の画像を保存するよう仕様が変わった場合、カラムを追加しなくてはいけないなど柔軟性にかけるため。\n",
    "\n",
    "・1枚しか画像を保存しないレコードの場合、データベースに無駄が生じてしまうため。\n",
    "\n",
    "（正しい設計）\n",
    "・picturesテーブルを作成し、画像はそこに保存する。\n",
    "・articlesテーブルとのアソシエーションを設定し、記事と画像を関連づける。"
   ]
  }
 ],
 "metadata": {
  "kernelspec": {
   "display_name": "Ruby 2.5.1",
   "language": "ruby",
   "name": "ruby"
  },
  "language_info": {
   "file_extension": ".rb",
   "mimetype": "application/x-ruby",
   "name": "ruby",
   "version": "2.5.1"
  }
 },
 "nbformat": 4,
 "nbformat_minor": 4
}
