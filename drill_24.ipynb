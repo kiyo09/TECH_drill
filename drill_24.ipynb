{
 "cells": [
  {
   "cell_type": "markdown",
   "metadata": {},
   "source": [
    "# デイリードリル24"
   ]
  },
  {
   "cell_type": "markdown",
   "metadata": {},
   "source": [
    "## 問題"
   ]
  },
  {
   "cell_type": "markdown",
   "metadata": {},
   "source": [
    "以下の条件を満たすコードを記述してください。\n",
    "\n",
    "・Bookクラスを作成する  \n",
    "・Bookクラスは@titleと@priceをプロパティとして持っている  \n",
    "・attr_readerを使用する  \n",
    "・Bookクラスのインスタンスを作成する（タイトル、価格は任意）  \n",
    "・作成したインスタンスから、タイトルを取得し画面に表示させる。"
   ]
  },
  {
   "cell_type": "markdown",
   "metadata": {},
   "source": [
    "## 解答"
   ]
  },
  {
   "cell_type": "code",
   "execution_count": 5,
   "metadata": {},
   "outputs": [
    {
     "name": "stdout",
     "output_type": "stream",
     "text": [
      "god\n"
     ]
    }
   ],
   "source": [
    "class Book\n",
    "  attr_reader :title, :price\n",
    "  \n",
    "  def initialize(title, price)\n",
    "    @title = title\n",
    "    @price = price\n",
    "  end\n",
    "  \n",
    "  book = Book.new(\"god\",800)\n",
    "  puts book.title\n",
    "end"
   ]
  },
  {
   "cell_type": "code",
   "execution_count": null,
   "metadata": {},
   "outputs": [],
   "source": []
  }
 ],
 "metadata": {
  "kernelspec": {
   "display_name": "Ruby 2.5.1",
   "language": "ruby",
   "name": "ruby"
  },
  "language_info": {
   "file_extension": ".rb",
   "mimetype": "application/x-ruby",
   "name": "ruby",
   "version": "2.5.1"
  }
 },
 "nbformat": 4,
 "nbformat_minor": 4
}
