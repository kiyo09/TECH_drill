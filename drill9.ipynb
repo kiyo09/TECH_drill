{
 "cells": [
  {
   "cell_type": "markdown",
   "metadata": {},
   "source": [
    "# デイリードリル09"
   ]
  },
  {
   "cell_type": "markdown",
   "metadata": {},
   "source": [
    "## 問題  \n",
    "HTML, CSSに関する以下の設問に答えてください。\n",
    "\n",
    "⑴HTMLタグは大きく「ブロック要素」「インライン要素」に分けられます。それぞれどのような特徴があり、具体的にどんなタグが含まれるか説明してください。  \n",
    "  \n",
    "⑵classセレクタおよびidセレクタについてそれぞれの特徴を説明してください。  \n",
    "  \n",
    "⑶リセットcssの役割について説明してください。  \n",
    "  \n",
    "⑷ブロック要素を横並びにさせるために、float以外にどのような方法があるか簡単に述べてください。  \n",
    "  \n",
    "⑸webフォントとは何か、特徴と使用するメリットを簡潔に述べてください。"
   ]
  },
  {
   "cell_type": "markdown",
   "metadata": {},
   "source": [
    "## 解答"
   ]
  },
  {
   "cell_type": "markdown",
   "metadata": {},
   "source": [
    "⑴\n",
    "- ブロック要素  \n",
    "    要素の前後に改行が入り、ブロック要素同士縦に並ぶ  \n",
    "    横幅や高さを指定できる  \n",
    "    余白(margin,padding)が指定できる  \n",
    "  \n",
    "- インライン要素  \n",
    "    要素の前後に改行が入らず、インライン要素同士横に並ぶ  \n",
    "    横幅や高さを指定できない  \n",
    "    ブロックレベル要素のように上下の余白設定(margin,padding)が効かない\n",
    "\n",
    "⑵classセレクタは、class名がつけられた要素を対象にスタイルを適用するセレクタです。idセレクタは、id名が付けられた要素を対象に適用。  \n",
    "  \n",
    "⑶リセットCSSを使うことによってブラウザ間の表示を統一する  \n",
    "  \n",
    "⑷display：flexで横並びにすることができる  \n",
    "  \n",
    "⑸あらかじめサーバ上に置かれたフォントやインターネット上で提供されているフォントを呼び出す  \n"
   ]
  },
  {
   "cell_type": "markdown",
   "metadata": {},
   "source": [
    "# 模範解答"
   ]
  },
  {
   "cell_type": "markdown",
   "metadata": {},
   "source": [
    "⑴ブロック要素：\n",
    "見出し・段落など一つのブロックとして主にページ全体のレイアウトを行うために使う要素。<div><p><table>など。\n",
    "\n",
    "インライン要素：\n",
    "主にブロック要素の中身として用いられる要素。文章の一部を装飾するときなどに使われる。など。  \n",
    "    \n",
    "⑵class：\n",
    "種別名を割り当てるもので、 同じclass名を、1ページ中に何度でも使うことができる。\n",
    "\n",
    "■id：\n",
    "固有の名前を割り当てるもので、 同じid名は、1ページ中に1度しか使えない。  \n",
    "    \n",
    "⑶ブラウザがもともと持っているCSSを打ち消すためのファイル。利用することで異なるブラウザでも同じ見え方になるようスタイリングができる。  \n",
    "    \n",
    "⑷・display: flex; を使う\n",
    "\n",
    "・display: inline-block; を使う\n",
    "\n",
    "・display:inline; を使う  \n",
    "    \n",
    "⑸webサーバー上で提供されているフォントファイルのこと。どの端末からアクセスしたときでも、同じフォントを表示させることができる。"
   ]
  },
  {
   "cell_type": "code",
   "execution_count": null,
   "metadata": {},
   "outputs": [],
   "source": []
  }
 ],
 "metadata": {
  "kernelspec": {
   "display_name": "Ruby 2.5.1",
   "language": "ruby",
   "name": "ruby"
  },
  "language_info": {
   "file_extension": ".rb",
   "mimetype": "application/x-ruby",
   "name": "ruby",
   "version": "2.5.1"
  }
 },
 "nbformat": 4,
 "nbformat_minor": 4
}
