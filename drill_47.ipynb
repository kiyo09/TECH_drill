{
 "cells": [
  {
   "cell_type": "markdown",
   "metadata": {},
   "source": [
    "# デイリードリル47"
   ]
  },
  {
   "cell_type": "markdown",
   "metadata": {},
   "source": [
    "## 問題"
   ]
  },
  {
   "cell_type": "markdown",
   "metadata": {},
   "source": [
    "下記のEventモデルには、Userモデルの関係が定義されています。現在は@event.userのような形で、@eventに紐づいたuserを取得することができます。\n",
    "\n",
    "アソシエーションのメソッド名とクラス名が一致しているときはそれで問題ありませんが、メソッド名を変えたいこともあります。\n",
    "\n",
    "EventモデルとUserモデルの関係を、@event.ownerと記述して取得できるようにするにはどうすればよいか、調べてコードを記述してください。\n",
    "\n",
    "```\n",
    "app/models/event.rb\n",
    "\n",
    "class Event < ActiveRecord::Base\n",
    "  belongs_to :user\n",
    "  has_many :tickets\n",
    "\n",
    "  validates :name, length: { maximum: 50 }, presence: true\n",
    "  validates :place, length: { maximum: 100 }, presence: true\n",
    "  validates :content, length: { maximum: 2000 }, presence: true\n",
    "  validates :start_time, presence: true\n",
    "  validates :end_time, presence: true\n",
    "  validate :start_time_should_be_before_end_time\n",
    "\n",
    "  def created_by?(user)\n",
    "    return false unless user\n",
    "    owner_id == user.id\n",
    "  end\n",
    "\n",
    "  private\n",
    "\n",
    "  def start_time_should_be_before_end_time\n",
    "    return unless start_time && end_time\n",
    "\n",
    "    if start_time >= end_time\n",
    "      errors.add(:start_time, 'は終了時間よりも前に設定してください')\n",
    "    end\n",
    "  end\n",
    "end\n",
    "```"
   ]
  },
  {
   "cell_type": "markdown",
   "metadata": {},
   "source": [
    "## 解答"
   ]
  },
  {
   "cell_type": "markdown",
   "metadata": {},
   "source": [
    "belongs_to :userをbelongs_to :owner, class_name: 'User'と書き換える。"
   ]
  }
 ],
 "metadata": {
  "kernelspec": {
   "display_name": "Python 3",
   "language": "python",
   "name": "python3"
  },
  "language_info": {
   "codemirror_mode": {
    "name": "ipython",
    "version": 3
   },
   "file_extension": ".py",
   "mimetype": "text/x-python",
   "name": "python",
   "nbconvert_exporter": "python",
   "pygments_lexer": "ipython3",
   "version": "3.7.6"
  }
 },
 "nbformat": 4,
 "nbformat_minor": 4
}
