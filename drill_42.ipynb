{
 "cells": [
  {
   "cell_type": "markdown",
   "metadata": {},
   "source": [
    "# デイリードリル42"
   ]
  },
  {
   "cell_type": "markdown",
   "metadata": {},
   "source": [
    "## 問題"
   ]
  },
  {
   "cell_type": "markdown",
   "metadata": {},
   "source": [
    "Railsで、定期的に実行したい処理は、lib/tasks以下のディレクトリに、rakeタスクを作成して処理を記述することが多いです。\n",
    "\n",
    "次のコードは、全てのユーザーに対して。ユーザーが入店したかどうかを管理する\"enterd_flag\"というカラムをfalseにするrakeタスクです。\n",
    "\n",
    "rakeタスクの使い方を確認した上で、下記のrakeタスクを、ターミナルから実行するためには、どのようなコマンドを実行すればいいか、答えてください。"
   ]
  },
  {
   "cell_type": "markdown",
   "metadata": {},
   "source": [
    "```\n",
    "namespace :user do\n",
    "  desc \"ユーザーの入店情報をリセットする\"\n",
    "  task reset_entered_flag: :environment do\n",
    "    User.update_all(entered_flag: false)\n",
    "  end\n",
    "end\n",
    "```"
   ]
  },
  {
   "cell_type": "markdown",
   "metadata": {},
   "source": [
    "## 解答"
   ]
  },
  {
   "cell_type": "markdown",
   "metadata": {},
   "source": [
    "$ rake user:reset_entered_flag\n",
    "（補足）\n",
    "rake [namespeceの名前]:[taskの名前]のように記述して実行します。\n",
    "毎日・毎週特定の曜日・３日おきなど、特定の周期でrakeタスクを自動実行したい場合は、wheneverというgemを組み合わせて利用します。興味のある方は、是非下記リンクを参考にしてみてください。\n",
    "\n",
    "https://morizyun.github.io/blog/whenever-gem-rails-ruby-capistrano/index.html"
   ]
  },
  {
   "cell_type": "code",
   "execution_count": null,
   "metadata": {},
   "outputs": [],
   "source": []
  }
 ],
 "metadata": {
  "kernelspec": {
   "display_name": "Ruby 2.5.1",
   "language": "ruby",
   "name": "ruby"
  },
  "language_info": {
   "file_extension": ".rb",
   "mimetype": "application/x-ruby",
   "name": "ruby",
   "version": "2.5.1"
  }
 },
 "nbformat": 4,
 "nbformat_minor": 4
}
