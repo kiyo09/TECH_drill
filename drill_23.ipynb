{
 "cells": [
  {
   "cell_type": "markdown",
   "metadata": {},
   "source": [
    "# デイリードリル23"
   ]
  },
  {
   "cell_type": "markdown",
   "metadata": {},
   "source": [
    "## 問題"
   ]
  },
  {
   "cell_type": "markdown",
   "metadata": {},
   "source": [
    "１　次のwhile文は、変数aに1を足す処理を行います。\n",
    "しかしながら、while文を終了する条件が記述されていないため、終了することなく永遠に実行され続けてしまいます。\n",
    "コードを修正して、aが100以上の時には処理が終了するようにしてください。\n",
    "\n",
    "```\n",
    "a = 0\n",
    "\n",
    "while true do\n",
    " puts a\n",
    " a += 1\n",
    "end\n",
    "```\n",
    "\n",
    "２　文字列を数字に変換するメソッドを答えなさい。また、そのメソッドを用いて、下記の変数strを文字列から数字に変換してください。\n",
    "\n",
    "str = \"1\"\n",
    "\n",
    "3　以下の配列arrayに対してあるメソッドを実行し、最後の値\"something\"を配列から削除してください。\n",
    "\n",
    "array = [\"dog\", \"cat\", \"something\"]\n"
   ]
  },
  {
   "cell_type": "markdown",
   "metadata": {},
   "source": [
    "## 解答"
   ]
  },
  {
   "cell_type": "code",
   "execution_count": null,
   "metadata": {},
   "outputs": [],
   "source": [
    "a = 0\n",
    "\n",
    "while a < 100 do\n",
    " puts a\n",
    " a += 1\n",
    "end"
   ]
  },
  {
   "cell_type": "code",
   "execution_count": 3,
   "metadata": {},
   "outputs": [
    {
     "data": {
      "text/plain": [
       "1"
      ]
     },
     "execution_count": 3,
     "metadata": {},
     "output_type": "execute_result"
    }
   ],
   "source": [
    "str = \"1\"\n",
    "str.to_i"
   ]
  },
  {
   "cell_type": "code",
   "execution_count": 8,
   "metadata": {},
   "outputs": [
    {
     "data": {
      "text/plain": [
       "[\"dog\", \"cat\"]"
      ]
     },
     "execution_count": 8,
     "metadata": {},
     "output_type": "execute_result"
    }
   ],
   "source": [
    "array = [\"dog\", \"cat\", \"something\"]\n",
    "array.delete_at(2)\n",
    "array"
   ]
  },
  {
   "cell_type": "markdown",
   "metadata": {},
   "source": [
    "## 3 模範解答"
   ]
  },
  {
   "cell_type": "code",
   "execution_count": 9,
   "metadata": {},
   "outputs": [
    {
     "data": {
      "text/plain": [
       "[\"dog\", \"cat\"]"
      ]
     },
     "execution_count": 9,
     "metadata": {},
     "output_type": "execute_result"
    }
   ],
   "source": [
    "array = [\"dog\", \"cat\", \"something\"]\n",
    "array.pop\n",
    "array"
   ]
  },
  {
   "cell_type": "code",
   "execution_count": null,
   "metadata": {},
   "outputs": [],
   "source": []
  }
 ],
 "metadata": {
  "kernelspec": {
   "display_name": "Ruby 2.5.1",
   "language": "ruby",
   "name": "ruby"
  },
  "language_info": {
   "file_extension": ".rb",
   "mimetype": "application/x-ruby",
   "name": "ruby",
   "version": "2.5.1"
  }
 },
 "nbformat": 4,
 "nbformat_minor": 4
}
