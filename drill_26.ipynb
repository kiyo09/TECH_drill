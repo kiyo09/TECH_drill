{
 "cells": [
  {
   "cell_type": "markdown",
   "metadata": {},
   "source": [
    "# デイリードリル26"
   ]
  },
  {
   "cell_type": "markdown",
   "metadata": {},
   "source": [
    "## 問題"
   ]
  },
  {
   "cell_type": "markdown",
   "metadata": {},
   "source": [
    "下記の仕様に従って、Railsアプリケーションの雛形を作成してください。\n",
    "ただし、scaffoldを使用してはいけません。\n",
    "\n",
    "・アプリケーション名は任意  \n",
    "・データベースはMySQLを使用する。  \n",
    "・tweetsコントローラー内に、index, new, createアクションがある（メソッドの中身が記述してある必要はありません）。  \n",
    "・コントローラーに対応したビューファイルがある（表示される内容はデフォルトのままで構いません）。  \n",
    "・tweetモデル内に、title, contentカラムがある（いずれも文字列）。  \n",
    "・tweetsテーブルが作成されている。  \n",
    "・必要なルーティングが設定されている。  \n"
   ]
  },
  {
   "cell_type": "markdown",
   "metadata": {},
   "source": [
    "## 解答"
   ]
  },
  {
   "cell_type": "code",
   "execution_count": null,
   "metadata": {},
   "outputs": [],
   "source": [
    "rails new name -d mysql\n",
    "rails g controller tweets index new create\n",
    "rails g model tweet title:string content:string"
   ]
  },
  {
   "cell_type": "markdown",
   "metadata": {},
   "source": [
    "## 模範解答"
   ]
  },
  {
   "cell_type": "code",
   "execution_count": null,
   "metadata": {},
   "outputs": [],
   "source": [
    "> rails _4.2.6_ new sample-app -d mysql\n",
    "> rails g controller tweets index new create\n",
    "> bundle exec rake db:create\n",
    "> rails g model tweet title:string content string\n",
    "> bundle exec rake db:migrate\n",
    "> routes.rb に resources :tweets, only: [:index, :new, :create] を追加し、不要な記述を削除"
   ]
  }
 ],
 "metadata": {
  "kernelspec": {
   "display_name": "Ruby 2.5.1",
   "language": "ruby",
   "name": "ruby"
  },
  "language_info": {
   "file_extension": ".rb",
   "mimetype": "application/x-ruby",
   "name": "ruby",
   "version": "2.5.1"
  }
 },
 "nbformat": 4,
 "nbformat_minor": 4
}
