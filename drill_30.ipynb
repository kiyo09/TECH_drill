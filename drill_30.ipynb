{
 "cells": [
  {
   "cell_type": "markdown",
   "metadata": {},
   "source": [
    "# デイリードリル30"
   ]
  },
  {
   "cell_type": "markdown",
   "metadata": {},
   "source": [
    "## 問題"
   ]
  },
  {
   "cell_type": "markdown",
   "metadata": {},
   "source": [
    "Rubyのメソッドを定義するときに、様々な引数の渡し方ができます。\n",
    "\n",
    "以下の機能を利用したメソッドのコードを記述してください。\n",
    "メソッドの内容は問いません。\n",
    "\n",
    "①デフォルト値  \n",
    "②可変長引数  \n",
    "③キーワード引数"
   ]
  },
  {
   "cell_type": "markdown",
   "metadata": {},
   "source": [
    "## 解答"
   ]
  },
  {
   "cell_type": "markdown",
   "metadata": {},
   "source": [
    "デフォルト引数  \n",
    "引数にデフォルト値をもたせられる。  \n",
    "```\n",
    "def test(msg=\"def\")\n",
    "end\n",
    "```\n",
    "\n",
    "キーワード引数  \n",
    "hashを使った引数宣言もできる。  \n",
    "キーワード引数は複数の引数を使う時に便利。  \n",
    "Hashなので引数の順番を気にせず使える。  \n",
    "```\n",
    "def test(msg: def)\n",
    "end\n",
    "```\n",
    "\n",
    "可変長引数＆オプション引数  \n",
    "*をつければ引数を複数個設定できる。  \n",
    "これを可変長引数という。  \n",
    "引数は配列として受け取られる。  \n",
    "```\n",
    "def test(*def)\n",
    "end\n",
    "```\n"
   ]
  },
  {
   "cell_type": "markdown",
   "metadata": {},
   "source": [
    "## 模範解答"
   ]
  },
  {
   "cell_type": "code",
   "execution_count": 1,
   "metadata": {},
   "outputs": [
    {
     "name": "stdout",
     "output_type": "stream",
     "text": [
      "3\n",
      "10\n"
     ]
    }
   ],
   "source": [
    "# デフォ\n",
    "def method1(num=3)\n",
    "    puts num\n",
    "end\n",
    "\n",
    "method1\n",
    "method1(10)"
   ]
  },
  {
   "cell_type": "code",
   "execution_count": 2,
   "metadata": {},
   "outputs": [
    {
     "name": "stdout",
     "output_type": "stream",
     "text": [
      "[10, 20]\n",
      "[1000, \"aaa\", 50]\n"
     ]
    },
    {
     "data": {
      "text/plain": [
       "[1000, \"aaa\", 50]"
      ]
     },
     "execution_count": 2,
     "metadata": {},
     "output_type": "execute_result"
    }
   ],
   "source": [
    "# 可変長\n",
    "def method2(*num)\n",
    "  p num\n",
    "end\n",
    "\n",
    "method2(10, 20)\n",
    "method2(1000, \"aaa\", 50)"
   ]
  },
  {
   "cell_type": "code",
   "execution_count": 3,
   "metadata": {},
   "outputs": [
    {
     "name": "stdout",
     "output_type": "stream",
     "text": [
      "yamada\n"
     ]
    }
   ],
   "source": [
    "# キーワード\n",
    "def method3(name:)\n",
    "  puts name\n",
    "end\n",
    "\n",
    "method3(name: \"yamada\")\n"
   ]
  },
  {
   "cell_type": "code",
   "execution_count": null,
   "metadata": {},
   "outputs": [],
   "source": []
  }
 ],
 "metadata": {
  "kernelspec": {
   "display_name": "Ruby 2.5.1",
   "language": "ruby",
   "name": "ruby"
  },
  "language_info": {
   "file_extension": ".rb",
   "mimetype": "application/x-ruby",
   "name": "ruby",
   "version": "2.5.1"
  }
 },
 "nbformat": 4,
 "nbformat_minor": 4
}
