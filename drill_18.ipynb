{
 "cells": [
  {
   "cell_type": "markdown",
   "metadata": {},
   "source": [
    "# デイリードリル18"
   ]
  },
  {
   "cell_type": "markdown",
   "metadata": {},
   "source": [
    "## 問題\n",
    "対話型のインターフェイスで二桁以上の整数を入力すると、十の位と一の位の数字に対して、足す、掛けるを行い、最後にそれぞれの結果を足し合わせて出力するプログラムをrubyで作成してください。\n",
    "\n",
    "ターミナルでの入力例\n",
    "\n",
    "$ ruby sample.rb"
   ]
  },
  {
   "cell_type": "markdown",
   "metadata": {},
   "source": [
    "## 解答"
   ]
  },
  {
   "cell_type": "code",
   "execution_count": 7,
   "metadata": {},
   "outputs": [
    {
     "data": {
      "text/plain": [
       "15"
      ]
     },
     "execution_count": 7,
     "metadata": {},
     "output_type": "execute_result"
    }
   ],
   "source": [
    "number = 15"
   ]
  },
  {
   "cell_type": "code",
   "execution_count": 6,
   "metadata": {},
   "outputs": [
    {
     "data": {
      "text/plain": [
       "1"
      ]
     },
     "execution_count": 6,
     "metadata": {},
     "output_type": "execute_result"
    }
   ],
   "source": [
    "top = (number / 10).round"
   ]
  },
  {
   "cell_type": "code",
   "execution_count": 8,
   "metadata": {},
   "outputs": [
    {
     "data": {
      "text/plain": [
       "5"
      ]
     },
     "execution_count": 8,
     "metadata": {},
     "output_type": "execute_result"
    }
   ],
   "source": [
    "bottom = num - top*10"
   ]
  },
  {
   "cell_type": "code",
   "execution_count": 9,
   "metadata": {},
   "outputs": [
    {
     "data": {
      "text/plain": [
       "6"
      ]
     },
     "execution_count": 9,
     "metadata": {},
     "output_type": "execute_result"
    }
   ],
   "source": [
    "top + bottom"
   ]
  },
  {
   "cell_type": "code",
   "execution_count": 10,
   "metadata": {},
   "outputs": [
    {
     "data": {
      "text/plain": [
       "5"
      ]
     },
     "execution_count": 10,
     "metadata": {},
     "output_type": "execute_result"
    }
   ],
   "source": [
    "top * bottom"
   ]
  },
  {
   "cell_type": "code",
   "execution_count": 12,
   "metadata": {},
   "outputs": [
    {
     "name": "stdout",
     "output_type": "stream",
     "text": [
      "二桁の整数を入力してください\n"
     ]
    },
    {
     "name": "stderr",
     "output_type": "stream",
     "text": [
      "(pry):52: warning: already initialized constant X\n",
      "(pry):30: warning: previous definition of X was here\n",
      "(pry):52: warning: already initialized constant Y\n",
      "(pry):30: warning: previous definition of Y was here\n"
     ]
    },
    {
     "name": "stdout",
     "output_type": "stream",
     "text": [
      "足し算結果と掛け算結果の合計値は0です\n"
     ]
    }
   ],
   "source": [
    "def add(a, b)\n",
    "  a + b\n",
    "end\n",
    "\n",
    "def multi(a,b)\n",
    "  a * b\n",
    "end\n",
    "\n",
    "def slice(num)\n",
    "   # 10の位\n",
    "  top = (num / 10).round\n",
    "  # 1の位\n",
    "  bottom = num - top \n",
    "  return top, bottom\n",
    "end\n",
    "\n",
    "puts \"二桁の整数を入力してください\"\n",
    "input = gets.to_i\n",
    "X, Y = slice(input)\n",
    "add_result = addition(X, Y)\n",
    "multiple_result = multiplication(X, Y)\n",
    "puts \"足し算結果と掛け算結果の合計値は#{add_result + multiple_result}です\""
   ]
  },
  {
   "cell_type": "markdown",
   "metadata": {},
   "source": [
    "## 模範解答"
   ]
  },
  {
   "cell_type": "code",
   "execution_count": 11,
   "metadata": {},
   "outputs": [
    {
     "name": "stdout",
     "output_type": "stream",
     "text": [
      "二桁の整数を入力してください\n",
      "足し算結果と掛け算結果の合計値は0です\n"
     ]
    }
   ],
   "source": [
    "def addition(a, b)\n",
    "  a + b\n",
    "end\n",
    "\n",
    "def multiplication(a,b)\n",
    "  a * b\n",
    "end\n",
    "\n",
    "def slice_num(num)\n",
    "  # 10の位\n",
    "  tens_place = (num / 10) % 10\n",
    "  # 1の位\n",
    "  ones_place = (num / 1) % 10\n",
    "  return tens_place, ones_place\n",
    "end\n",
    "\n",
    "puts \"二桁の整数を入力してください\"\n",
    "input = gets.to_i\n",
    "X, Y = slice_num(input)\n",
    "add_result = addition(X, Y)\n",
    "multiple_result = multiplication(X, Y)\n",
    "puts \"足し算結果と掛け算結果の合計値は#{add_result + multiple_result}です\"\n"
   ]
  }
 ],
 "metadata": {
  "kernelspec": {
   "display_name": "Ruby 2.5.1",
   "language": "ruby",
   "name": "ruby"
  },
  "language_info": {
   "file_extension": ".rb",
   "mimetype": "application/x-ruby",
   "name": "ruby",
   "version": "2.5.1"
  }
 },
 "nbformat": 4,
 "nbformat_minor": 4
}
