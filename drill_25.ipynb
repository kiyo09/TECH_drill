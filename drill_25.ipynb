{
 "cells": [
  {
   "cell_type": "markdown",
   "metadata": {},
   "source": [
    "# デイリードリル25"
   ]
  },
  {
   "cell_type": "markdown",
   "metadata": {},
   "source": [
    "## 問題"
   ]
  },
  {
   "cell_type": "markdown",
   "metadata": {},
   "source": [
    "以下の配列から、数を探して何番目に含まれているか結果を返す\n",
    "メソッドを作成してください。\n",
    "\n",
    "```\n",
    "input = [3, 5, 9 ,12, 15, 21, 29, 35, 42, 51, 62, 78, 81, 87, 92, 93]\n",
    "\n",
    "（使用例）\n",
    "search(12, input)\n",
    "=> 4番目にあります\n",
    "\n",
    "search(7, input)\n",
    "=> その数は含まれていません\n",
    "```"
   ]
  },
  {
   "cell_type": "markdown",
   "metadata": {},
   "source": [
    "## 解答"
   ]
  },
  {
   "cell_type": "code",
   "execution_count": 8,
   "metadata": {},
   "outputs": [
    {
     "name": "stdout",
     "output_type": "stream",
     "text": [
      "その数は含まれません\n"
     ]
    }
   ],
   "source": [
    "input = [3, 5, 9 ,12, 15, 21, 29, 35, 42, 51, 62, 78, 81, 87, 92, 93]\n",
    "\n",
    "def search(select_num, input)\n",
    "  input.each_with_index do | num, index |\n",
    "    if num == select_num\n",
    "      puts \"#{index + 1}番目にあります\"\n",
    "      return\n",
    "    else\n",
    "      puts \"その数は含まれません\"\n",
    "      return\n",
    "    end\n",
    "  end\n",
    "end\n",
    "\n",
    "search(51, input)"
   ]
  },
  {
   "cell_type": "markdown",
   "metadata": {},
   "source": [
    "## 模範解答"
   ]
  },
  {
   "cell_type": "code",
   "execution_count": 9,
   "metadata": {},
   "outputs": [
    {
     "name": "stdout",
     "output_type": "stream",
     "text": [
      "4番目にあります\n"
     ]
    }
   ],
   "source": [
    "def search(target_num, input)\n",
    "\n",
    "  input.each_with_index do |num, index|\n",
    "    if num == target_num\n",
    "      puts \"#{index + 1}番目にあります\"\n",
    "      return\n",
    "    end\n",
    "  end\n",
    "  puts \"その数は含まれていません\"\n",
    "end\n",
    "\n",
    "input = [3, 5, 9 ,12, 15, 21, 29, 35, 42, 51, 62, 78, 81, 87, 92, 93]\n",
    "search(12, input)"
   ]
  },
  {
   "cell_type": "code",
   "execution_count": null,
   "metadata": {},
   "outputs": [],
   "source": []
  }
 ],
 "metadata": {
  "kernelspec": {
   "display_name": "Ruby 2.5.1",
   "language": "ruby",
   "name": "ruby"
  },
  "language_info": {
   "file_extension": ".rb",
   "mimetype": "application/x-ruby",
   "name": "ruby",
   "version": "2.5.1"
  }
 },
 "nbformat": 4,
 "nbformat_minor": 4
}
