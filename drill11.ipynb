{
 "cells": [
  {
   "cell_type": "markdown",
   "metadata": {},
   "source": [
    "# デイリードリル11"
   ]
  },
  {
   "cell_type": "markdown",
   "metadata": {},
   "source": [
    "## Rails問題（モデル）\n",
    "\n",
    "⑴例えばPictweetで、Tweet.find(1)を実行するとidが1番のつぶやきを取得することができます。この時、Tweetクラスの中にfindメソッドを定義していないにも関わらずfindというメソッドを使用できる理由を述べてください。   \n",
    "  \n",
    "⑵Railsにおけるアソシエーションとはどのような機能か、またMVCのどこに含まれる機能なのか簡潔に述べてください。"
   ]
  },
  {
   "cell_type": "markdown",
   "metadata": {},
   "source": [
    "## 解答"
   ]
  },
  {
   "cell_type": "markdown",
   "metadata": {},
   "source": [
    "⑴ActiveRecordで定義されているメソッドなので使用できる。\n",
    "  \n",
    "⑵アソシエーションとは、テーブル間のリレーションシップをモデルの上の関係として操作できるようにする仕組み。modelに記載する。"
   ]
  },
  {
   "cell_type": "markdown",
   "metadata": {},
   "source": [
    "## 模範解答\n",
    "⑴rails g model tweetのコマンドを実行するとTweetクラスが作成されるが、そのTweetクラスはActiveRecord::Baseを継承している。\n",
    "\n",
    "そのため、Tweetクラスのインスタンスに対して、ActiveRecord::Baseで定義されているメソッドを使用することができる。"
   ]
  },
  {
   "cell_type": "markdown",
   "metadata": {},
   "source": [
    "⑵DBのテーブルとテーブルを紐づけることによって、関連するデータの読み書きを容易にするための機能。MVCの中のM（モデル）に含まれる。"
   ]
  }
 ],
 "metadata": {
  "kernelspec": {
   "display_name": "Ruby 2.5.1",
   "language": "ruby",
   "name": "ruby"
  },
  "language_info": {
   "file_extension": ".rb",
   "mimetype": "application/x-ruby",
   "name": "ruby",
   "version": "2.5.1"
  }
 },
 "nbformat": 4,
 "nbformat_minor": 4
}
