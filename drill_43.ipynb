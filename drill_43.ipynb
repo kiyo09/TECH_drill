{
 "cells": [
  {
   "cell_type": "markdown",
   "metadata": {},
   "source": [
    "# デイリードリル43"
   ]
  },
  {
   "cell_type": "markdown",
   "metadata": {},
   "source": [
    "## 問題"
   ]
  },
  {
   "cell_type": "markdown",
   "metadata": {},
   "source": [
    "①下記コードのlayoutとはどのようなメソッドが説明してください。\n",
    "\n",
    "items_controller.rb  \n",
    "class ItemsController < ApplicationController  \n",
    "  layout 'hogehoge'  \n",
    "  \n",
    "  def index  \n",
    "    @items = Item.includes(items_users: :users)  \n",
    "  end  \n",
    "end  \n"
   ]
  },
  {
   "cell_type": "markdown",
   "metadata": {},
   "source": [
    "②①のコードで、itemsコントローラに「layout 'hogehoge'」があることで、ない場合と具体的にどのような動作の違いが出るか説明してください。"
   ]
  },
  {
   "cell_type": "markdown",
   "metadata": {},
   "source": [
    "## 解答"
   ]
  },
  {
   "cell_type": "markdown",
   "metadata": {},
   "source": [
    "①コントローラによってヘッダー・フッターのデザインを変更したり、読み込むCSSを切り替えるメソッド。"
   ]
  },
  {
   "cell_type": "markdown",
   "metadata": {},
   "source": [
    "itemsコントローラのアクションが呼び出された際の、レイアウトファイルとしてapp/views/layouts/hogehoge.htmlが使われるようになる。何も指定しない場合はapp/views/layouts/application.htmlが読み込まれる。"
   ]
  }
 ],
 "metadata": {
  "kernelspec": {
   "display_name": "Ruby 2.5.1",
   "language": "ruby",
   "name": "ruby"
  },
  "language_info": {
   "file_extension": ".rb",
   "mimetype": "application/x-ruby",
   "name": "ruby",
   "version": "2.5.1"
  }
 },
 "nbformat": 4,
 "nbformat_minor": 4
}
