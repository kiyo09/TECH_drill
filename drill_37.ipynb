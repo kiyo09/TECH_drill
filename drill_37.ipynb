{
 "cells": [
  {
   "cell_type": "markdown",
   "metadata": {},
   "source": [
    "# デイリードリル37"
   ]
  },
  {
   "cell_type": "markdown",
   "metadata": {},
   "source": [
    "# 問題"
   ]
  },
  {
   "cell_type": "markdown",
   "metadata": {},
   "source": [
    "[A]と[B]の記述があり、書き方の違いはあれど、どちらも描画されるビューは全く同じです。しかしながら、ある理由により、[A][B]いずれかの記述の方が好まれます。より良い記述は[A][B]どちらか選び、その理由を記述してください。"
   ]
  },
  {
   "cell_type": "markdown",
   "metadata": {},
   "source": [
    "```\n",
    "[A].haml\n",
    "@users = User.all\n",
    "@users.each do |user|\n",
    "  = render 'user',  user: user\n",
    "```  \n",
    "  \n",
    "  \n",
    "```\n",
    "[B].haml\n",
    "@users = User.all\n",
    "  = render 'user', users: @users\n",
    "```"
   ]
  },
  {
   "cell_type": "markdown",
   "metadata": {},
   "source": [
    "## 解答"
   ]
  },
  {
   "cell_type": "markdown",
   "metadata": {},
   "source": [
    "B\n",
    "読み込み回数が減り、処理速度が早いb"
   ]
  }
 ],
 "metadata": {
  "kernelspec": {
   "display_name": "Ruby 2.5.1",
   "language": "ruby",
   "name": "ruby"
  },
  "language_info": {
   "file_extension": ".rb",
   "mimetype": "application/x-ruby",
   "name": "ruby",
   "version": "2.5.1"
  }
 },
 "nbformat": 4,
 "nbformat_minor": 4
}
