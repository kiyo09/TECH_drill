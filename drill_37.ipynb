{
 "cells": [
  {
   "cell_type": "markdown",
   "metadata": {},
   "source": [
    "# デイリードリル37"
   ]
  },
  {
   "cell_type": "markdown",
   "metadata": {},
   "source": [
    "# 問題"
   ]
  },
  {
   "cell_type": "markdown",
   "metadata": {},
   "source": [
    "[A]と[B]の記述があり、書き方の違いはあれど、どちらも描画されるビューは全く同じです。しかしながら、ある理由により、[A][B]いずれかの記述の方が好まれます。より良い記述は[A][B]どちらか選び、その理由を記述してください。"
   ]
  },
  {
   "cell_type": "markdown",
   "metadata": {},
   "source": [
    "```\n",
    "[A].haml\n",
    "@users = User.all\n",
    "@users.each do |user|\n",
    "  = render 'user',  user: user\n",
    "```  \n",
    "  \n",
    "  \n",
    "```\n",
    "[B].haml\n",
    "@users = User.all\n",
    "  = render 'user', users: @users\n",
    "```"
   ]
  },
  {
   "cell_type": "markdown",
   "metadata": {},
   "source": [
    "## 解答"
   ]
  },
  {
   "cell_type": "markdown",
   "metadata": {},
   "source": [
    "B\n",
    "読み込み回数が減り、処理速度が早い"
   ]
  },
  {
   "cell_type": "markdown",
   "metadata": {},
   "source": [
    "## 模範解答"
   ]
  },
  {
   "cell_type": "markdown",
   "metadata": {},
   "source": [
    "[B]の方が好まれます。\n",
    "理由は、[B]の方が処理が速いからです。\n",
    "\n",
    "[A]では、@usersにeachを使用して、user一人一人に対してrenderを実行しています。\n",
    "この書き方だと、userが100人いると100回、50000人いると50000回、どの部分テンプレートを利用するのか探しにいく処理が実行されるため、ユーザーが多ければ多くなるほどパフォーマンスが低下していきます。\n",
    "\n",
    "一方、[B]では、renderする際の変数に、@usersを渡しています。\n",
    "この書き方だと、どの部分テンプレートを利用するのか探しにいく処理は一度しか実行されないため、[A]より高速にビューを描画することができます。\n",
    "\n",
    "なお、render @users と省略して記述することも可能です。"
   ]
  }
 ],
 "metadata": {
  "kernelspec": {
   "display_name": "Ruby 2.5.1",
   "language": "ruby",
   "name": "ruby"
  },
  "language_info": {
   "file_extension": ".rb",
   "mimetype": "application/x-ruby",
   "name": "ruby",
   "version": "2.5.1"
  }
 },
 "nbformat": 4,
 "nbformat_minor": 4
}
