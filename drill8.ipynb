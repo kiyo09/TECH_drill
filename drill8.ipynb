{
 "cells": [
  {
   "cell_type": "markdown",
   "metadata": {},
   "source": [
    "# デイリードリル08"
   ]
  },
  {
   "cell_type": "markdown",
   "metadata": {},
   "source": [
    "## 問題"
   ]
  },
  {
   "cell_type": "markdown",
   "metadata": {},
   "source": [
    "下記のコードは、ターミナルに「Mr.Tanaka」と表記されることを意図して\n",
    "書いていますが、実際はそうなりません。\n",
    "\n",
    "その理由を、「スコープ」という用語を用いて説明してください。"
   ]
  },
  {
   "cell_type": "markdown",
   "metadata": {},
   "source": [
    "```\n",
    "def rename(name)\n",
    "    name = \"Mr.#{name}\"\n",
    "  end\n",
    "\n",
    "  name = \"Tanaka\"\n",
    "  rename(name)\n",
    "  puts name\n",
    "```"
   ]
  },
  {
   "cell_type": "markdown",
   "metadata": {},
   "source": [
    "## 解答"
   ]
  },
  {
   "cell_type": "markdown",
   "metadata": {},
   "source": [
    "関数内のスコープでMr.はつくが、外のnameにはTanakaしか入っていない"
   ]
  },
  {
   "cell_type": "markdown",
   "metadata": {},
   "source": [
    "## 模範解答  \n",
    "  \n",
    "・多くのプログラミング言語には変数のスコープという概念があり、スコープ外の変数にはアクセスできない。\n",
    "\n",
    "・Rubyの場合はメソッドの内側と外側ではスコープが違うという仕様になっている。\n",
    "\n",
    "・そのためdefの中のnameという変数と、defの外側のnameは別物である。そのためrenameメソッドのなかのnameに代入しても、外側のnameに変更はない"
   ]
  },
  {
   "cell_type": "markdown",
   "metadata": {},
   "source": [
    "## 問題"
   ]
  },
  {
   "cell_type": "markdown",
   "metadata": {},
   "source": [
    "コードを下記のように修正するとうまくいく理由を、「引数」「返り値」という用語を用いて説明してください。"
   ]
  },
  {
   "cell_type": "markdown",
   "metadata": {},
   "source": [
    "```\n",
    "def rename(name)\n",
    "    name = \"Mr.#{name}\"\n",
    "  end\n",
    "\n",
    "  name = \"Tanaka\"\n",
    "  name = rename(name)\n",
    "  puts name\n",
    "```"
   ]
  },
  {
   "cell_type": "markdown",
   "metadata": {},
   "source": [
    "## 解答"
   ]
  },
  {
   "cell_type": "markdown",
   "metadata": {},
   "source": [
    "Tanakaを引数に関数を呼び出しMrがついた状態で変数を上書きしているため"
   ]
  },
  {
   "cell_type": "markdown",
   "metadata": {},
   "source": [
    "## 模範解答  \n",
    "・問題１で見たようにメソッドを作っても、メソッド外の変数に影響を及ぼすことは（通常）できない。\n",
    "\n",
    "・そのため、メソッドに引数を渡し、演算の結果を返り値として受け取る。その返り値を再度変数に代入することによって、メソッドでの処理結果を利用することができる。"
   ]
  }
 ],
 "metadata": {
  "kernelspec": {
   "display_name": "Ruby 2.5.1",
   "language": "ruby",
   "name": "ruby"
  },
  "language_info": {
   "file_extension": ".rb",
   "mimetype": "application/x-ruby",
   "name": "ruby",
   "version": "2.5.1"
  }
 },
 "nbformat": 4,
 "nbformat_minor": 4
}
