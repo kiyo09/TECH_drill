{
 "cells": [
  {
   "cell_type": "markdown",
   "metadata": {},
   "source": [
    "# デイリードリル06"
   ]
  },
  {
   "cell_type": "markdown",
   "metadata": {},
   "source": [
    "## 問題"
   ]
  },
  {
   "cell_type": "markdown",
   "metadata": {},
   "source": [
    "後輩の太郎くんが、下記のコードを読んでいますが今ひとつ内容を\n",
    "理解できないようです。\n",
    "\n",
    "以下の3点について解説してください。  \n",
    "(1)コードが実行される順番がよくわからない  \n",
    "(2)メソッドを実行することで、変数posts, a_postsにどのような値が代入されるのかがわからない。  \n",
    "(3)post_reviewメソッドが何をしているのかがわからない  "
   ]
  },
  {
   "cell_type": "markdown",
   "metadata": {},
   "source": [
    "# メソッドの定義\n",
    "```\n",
    "  def post_review(a_posts)\n",
    "    # 変数の定義\n",
    "    post = {}\n",
    "    puts \"ジャンルを入力してください：\"\n",
    "    post[:genre]  = gets.chomp\n",
    "    puts \"タイトルを入力してください：\"\n",
    "    post[:title]  = gets.chomp\n",
    "    puts \"感想を入力してください：\"\n",
    "    post[:review] = gets.chomp\n",
    "    line   = \"---------------------------\"\n",
    "\n",
    "    # レビューの描画\n",
    "    puts \"ジャンル : #{post[:genre]}\\n#{line}\"\n",
    "    puts \"タイトル : #{post[:title]}\\n#{line}\"\n",
    "    puts \"感想 :\\n#{post[:review]}\\n#{line}\"\n",
    "\n",
    "    # 配列オブジェクトに追加\n",
    "    a_posts << post\n",
    "\n",
    "    # a_postsをメソッドの呼び出し元に返す\n",
    "    return a_posts\n",
    "  end\n",
    "\n",
    "  def read_reviews(a_posts)\n",
    "    # リストの表示\n",
    "    number = 0\n",
    "    a_posts.each do |post|\n",
    "      puts \"[#{number}]：#{post[:title]}のレビュー\"\n",
    "      number += 1\n",
    "    end\n",
    "\n",
    "    puts \"\\n見たいレビューの番号を入力してください：\"\n",
    "    input = gets.to_i\n",
    "\n",
    "    # レビューの取得\n",
    "    post = a_posts[input]\n",
    "\n",
    "    # レビューの描画\n",
    "    line   = \"---------------------------\"\n",
    "    puts \"ジャンル : #{post[:genre]}\\n#{line}\"\n",
    "    puts \"タイトル : #{post[:title]}\\n#{line}\"\n",
    "    puts \"感想 :\\n#{post[:review]}\\n#{line}\"\n",
    "  end\n",
    "\n",
    "  def end_program\n",
    "    exit\n",
    "  end\n",
    "\n",
    "  def exception\n",
    "    puts \"入力された値は無効な値です\"\n",
    "  end\n",
    "\n",
    "  posts = []             # 配列オブジェクトpostsの生成\n",
    "\n",
    "  while true do\n",
    "    # メニューの表示\n",
    "    puts \"レビュー数：#{posts.length}\"\n",
    "    puts \"[0]レビューを書く\"\n",
    "    puts \"[1]レビューを読む\"\n",
    "    puts \"[2]アプリを終了する\"\n",
    "    input = gets.to_i\n",
    "\n",
    "    if input == 0 then\n",
    "      posts = post_review(posts)  # post_reviewメソッドの呼び出し\n",
    "    elsif input == 1 then\n",
    "      read_reviews(posts) # read_reviewsメソッドの呼び出し\n",
    "    elsif input == 2 then\n",
    "      end_program         # end_programメソッドの呼び出し\n",
    "    else\n",
    "      exception           # exceptionメソッドの呼び出し\n",
    "    end\n",
    "  end\n",
    " ```"
   ]
  },
  {
   "cell_type": "markdown",
   "metadata": {},
   "source": [
    "## 解答"
   ]
  },
  {
   "cell_type": "markdown",
   "metadata": {},
   "source": [
    "⑴関数は呼び出されるまで実行しないため、input→whileになった数字  \n",
    "⑵postsにはa_posts、a_postsにはpost  \n",
    "⑶chompで入力した内容をpost配列にして返している  "
   ]
  },
  {
   "cell_type": "markdown",
   "metadata": {},
   "source": [
    "## 模範解答"
   ]
  },
  {
   "cell_type": "markdown",
   "metadata": {},
   "source": [
    "1・コードは基本的に上から順に実行される。\n",
    "ただし、最初はメソッドの定義がしてあるだけなので、54行目から実行される。\n",
    "\n",
    "・56行目からのループ内で、選択された数字により各メソッドが呼ばれる。\n",
    "\n",
    "\n",
    "2・54行目で宣言しているpostsという配列に全てのレビュー情報を格納しようとしています。\n",
    "\n",
    "・ただし、Rubyの場合メソッドの内側と外側ではスコープが異なりますので、メソッド内からpostsには直接アクセスすることができません。\n",
    "\n",
    "・そのため、各メソッドに引数としてpostsを渡して、その返り値をpostsに再代入しています。\n",
    "\n",
    "・各メソッドでは、仮引数がa_postsという名前で定義されています。そのため、渡されたpostsをa_postsという変数にコピーして、メソッド内で使用することができます。\n",
    "  \n",
    "3・65行目でpost_review(posts)という記述があります。\n",
    "そのため、今までのレビュー全件が入ったpostsという配列が引数で渡されてpost_reviewが呼び出されます。\n",
    "\n",
    "・仮引数の名前はa_postsなので、post_reviewのメソッド内ではa_postsという配列にレビュー全件が入っていることになります。\n",
    "\n",
    "・メソッドの中で、postというハッシュを定義し、その中に最新のレビュー情報を格納します。\n",
    "\n",
    "・最後にa_postsにpostを追加し、その結果を返り値として返しています。"
   ]
  }
 ],
 "metadata": {
  "kernelspec": {
   "display_name": "Ruby 2.5.1",
   "language": "ruby",
   "name": "ruby"
  },
  "language_info": {
   "file_extension": ".rb",
   "mimetype": "application/x-ruby",
   "name": "ruby",
   "version": "2.5.1"
  }
 },
 "nbformat": 4,
 "nbformat_minor": 4
}
