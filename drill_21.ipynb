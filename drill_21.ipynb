{
 "cells": [
  {
   "cell_type": "markdown",
   "metadata": {},
   "source": [
    "# デイリードリル21"
   ]
  },
  {
   "cell_type": "markdown",
   "metadata": {},
   "source": [
    "## 問題"
   ]
  },
  {
   "cell_type": "markdown",
   "metadata": {},
   "source": [
    "今日の曜日を表示するコードを記述してください。\n",
    "\n",
    "ただし、金曜日だった場合だけ以下のように表示の内容を変えてください。\n",
    "\n",
    "（出力内容）  \n",
    "「今日は月曜日」  \n",
    "「今日は金曜日だ！！」"
   ]
  },
  {
   "cell_type": "markdown",
   "metadata": {},
   "source": [
    "## 解答"
   ]
  },
  {
   "cell_type": "code",
   "execution_count": 15,
   "metadata": {},
   "outputs": [
    {
     "name": "stdout",
     "output_type": "stream",
     "text": [
      "2020年5月6日水曜日"
     ]
    }
   ],
   "source": [
    "require \"date\"\n",
    "\n",
    "d = Date.today\n",
    "print(d.year, \"年\", d.month, \"月\", d.day, \"日\")  \n",
    "day = Date.today.wday\n",
    "youbi = %w[日 月 火 水 木 金 土]\n",
    "if day == 5\n",
    "  print(youbi[day],\"曜日だ！！\")\n",
    "else\n",
    "  print(youbi[day],\"曜日\")\n",
    "end"
   ]
  },
  {
   "cell_type": "code",
   "execution_count": 14,
   "metadata": {},
   "outputs": [
    {
     "name": "stdout",
     "output_type": "stream",
     "text": [
      "今日は水曜日\n"
     ]
    }
   ],
   "source": [
    "require \"date\"\n",
    "\n",
    "day = Date.today.wday\n",
    "days = [\"日曜日\", \"月曜日\", \"火曜日\", \"水曜日\", \"木曜日\", \"金曜日\", \"土曜日\"]\n",
    "\n",
    "if day == 5\n",
    "  puts \"今日は#{days[day]}だ！！！\"\n",
    "else\n",
    "  puts \"今日は#{days[day]}\"\n",
    "end"
   ]
  },
  {
   "cell_type": "code",
   "execution_count": null,
   "metadata": {},
   "outputs": [],
   "source": []
  }
 ],
 "metadata": {
  "kernelspec": {
   "display_name": "Ruby 2.5.1",
   "language": "ruby",
   "name": "ruby"
  },
  "language_info": {
   "file_extension": ".rb",
   "mimetype": "application/x-ruby",
   "name": "ruby",
   "version": "2.5.1"
  }
 },
 "nbformat": 4,
 "nbformat_minor": 4
}
