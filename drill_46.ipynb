{
 "cells": [
  {
   "cell_type": "markdown",
   "metadata": {},
   "source": [
    "# デイリードリル46"
   ]
  },
  {
   "cell_type": "markdown",
   "metadata": {},
   "source": [
    "## 問題"
   ]
  },
  {
   "cell_type": "markdown",
   "metadata": {},
   "source": [
    "```\n",
    "index.html.erb\n",
    "<div id=\"main-content\" class=\"col-sm-9\">\n",
    "  <h3 class=\"page-name\"><%= link_to 'Post', posts_path %></h3>\n",
    "  <div class=\"row\">\n",
    "    <%= render @posts %>\n",
    "  </div>\n",
    "</div>\n",
    "\n",
    "_post.html.erb\n",
    "<!-- views/posts/_post.html.erb -->\n",
    "<div class=\"col-sm-3 single-post-card\" id=<%= post_path(post.id) %>>\n",
    "  <div class=\"card\">\n",
    "    <div class=\"card-block\">\n",
    "      <h4 class=\"post-text\">\n",
    "        <%= truncate(post.title, :length => 60) %>\n",
    "      </h4>\n",
    "      <div class=\"post-content\">\n",
    "        <div class=\"posted-by\">Posted by <%= post.user.name %></div>\n",
    "        <h3><%= post.title %></h3>\n",
    "        <p><%= post.content %></p>\n",
    "        <%= link_to \"I'm interested\", post_path(post.id), class: 'interested' %>\n",
    "      </div>\n",
    "    </div>\n",
    "  </div>\n",
    "</div>\n",
    "```          \n",
    "          \n",
    "このとき、4行目のrenderメソッドを利用せずに同じ表示を得るためには、4行目以降をどのように書き換えれば良いでしょうか？_post.html.erbの記述を参考にしてください。"
   ]
  },
  {
   "cell_type": "markdown",
   "metadata": {},
   "source": [
    "## 解答"
   ]
  },
  {
   "cell_type": "markdown",
   "metadata": {},
   "source": [
    "```\n",
    "index.html.erb\n",
    "\n",
    "<div id=\"main-content\" class=\"col-sm-9\">\n",
    "  <h3 class=\"page-name\"><%= link_to 'Post', posts_path %></h3>\n",
    "  <div class=\"row\">\n",
    "    <% @posts.each do |post| %>\n",
    "      <div class=\"col-sm-3 single-post-card\" id=<%= post_path(post.id) %>>\n",
    "        <div class=\"card\">\n",
    "          <div class=\"card-block\">\n",
    "            <h4 class=\"post-text\">\n",
    "              <%= truncate(post.title, :length => 60) %>\n",
    "            </h4>\n",
    "           <div class=\"post-content\">\n",
    "             <div class=\"posted-by\">Posted by <%= post.user.name %></div>\n",
    "                 <h3><%= post.title %></h3>\n",
    "                 <p><%= post.content %></p>\n",
    "                 <%= link_to \"I'm interested\", post_path(post.id), class: 'interested' %>\n",
    "            </div>\n",
    "          </div>\n",
    "        </div>\n",
    "      </div>\n",
    "    <% end %>\n",
    "  </div>\n",
    "</div>\n",
    "```"
   ]
  }
 ],
 "metadata": {
  "kernelspec": {
   "display_name": "Python 3",
   "language": "python",
   "name": "python3"
  },
  "language_info": {
   "codemirror_mode": {
    "name": "ipython",
    "version": 3
   },
   "file_extension": ".py",
   "mimetype": "text/x-python",
   "name": "python",
   "nbconvert_exporter": "python",
   "pygments_lexer": "ipython3",
   "version": "3.7.6"
  }
 },
 "nbformat": 4,
 "nbformat_minor": 4
}
