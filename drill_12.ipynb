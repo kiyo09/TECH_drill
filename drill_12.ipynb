{
 "cells": [
  {
   "cell_type": "markdown",
   "metadata": {},
   "source": [
    "# デイリードリル12(改訂版)"
   ]
  },
  {
   "cell_type": "markdown",
   "metadata": {},
   "source": [
    "## Railsドリル（ビュー）\n",
    "\n",
    "⑴application.html.erbの役割と、主な使い方を説明してください。  \n",
    "  \n",
    "⑵ヘルパーメソッドのform_withについて特徴を述べてください。  \n",
    "  \n",
    "⑶通常ウェブサイトを作成する際は、htmlファイルにlinkタグを記述してcssファイルを読み込みます。Railsではこの記述が必要ない理由を述べてください。"
   ]
  },
  {
   "cell_type": "markdown",
   "metadata": {},
   "source": [
    "## 解答"
   ]
  },
  {
   "cell_type": "markdown",
   "metadata": {},
   "source": [
    "⑴全ファイルに反映させたい内容を記載する。  \n",
    "  \n",
    "⑵セキュリティ強化し、ストロングパラメーターが必要になる。  \n",
    "  createとupdate自動に割り振れる\n",
    "\n",
    "⑶require treeによって全てのファイルが読み込める。"
   ]
  },
  {
   "cell_type": "markdown",
   "metadata": {},
   "source": [
    "## 模範解答"
   ]
  },
  {
   "cell_type": "markdown",
   "metadata": {},
   "source": [
    "⑴デフォルトでは、全てのビューが読み込まれるときapplication.html.erbが読み込まれる。そのため、ヘッダーやフッターなど共通で表示させたい内容をここに記述する。  \n",
    "  \n",
    "⑵<br>\n",
    "・form_withで自動でパスを選択してくれて、HTTPメソッドを指定する必要が無い  \n",
    "・コントローラから渡された、ActiveRecordを継承するモデルのインスタンスが利用できる  \n",
    "・form_withではinputタグは用いない　　\n",
    "\n",
    "⑶  \n",
    "application.html.erbにstylesheet_link_tag 'application'という記述があるため、  app/assets/stylesheets/application.cssが読み込まれる。\n",
    "\n",
    "application.cssにあるrequire tree .　という記述により、同じフォルダにあるcssファイル全てが読み込まれる。"
   ]
  }
 ],
 "metadata": {
  "kernelspec": {
   "display_name": "Ruby 2.5.1",
   "language": "ruby",
   "name": "ruby"
  },
  "language_info": {
   "file_extension": ".rb",
   "mimetype": "application/x-ruby",
   "name": "ruby",
   "version": "2.5.1"
  }
 },
 "nbformat": 4,
 "nbformat_minor": 4
}
