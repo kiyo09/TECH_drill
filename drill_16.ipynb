{
 "cells": [
  {
   "cell_type": "markdown",
   "metadata": {},
   "source": [
    "# デイリードリル16"
   ]
  },
  {
   "cell_type": "markdown",
   "metadata": {},
   "source": [
    "## 問題\n",
    "```\n",
    "class Article\n",
    "\n",
    "  def initialize(author, title, content)\n",
    "    @author = author\n",
    "    @title = title\n",
    "    @content = content\n",
    "  end\n",
    "\n",
    "end\n",
    "```\n",
    "上記のコードに追加を行い、以下の出力結果を得られるようにしてください。ただし、クラスとインスタンスを使用するものとします。\n",
    "\n",
    "```\n",
    "著者: 阿部\n",
    "タイトル: Rubyの素晴らしさについて\n",
    "本文: Awesome Ruby!\n",
    "```"
   ]
  },
  {
   "cell_type": "markdown",
   "metadata": {},
   "source": [
    "# 解答"
   ]
  },
  {
   "cell_type": "code",
   "execution_count": 5,
   "metadata": {},
   "outputs": [
    {
     "name": "stdout",
     "output_type": "stream",
     "text": [
      "著者: 阿部\n",
      "タイトル: Rubyの素晴らしさについて\n",
      "本文: Awesome Ruby!\n"
     ]
    }
   ],
   "source": [
    "class Article\n",
    "\n",
    "  def initialize(author, title, content)\n",
    "    @author = author\n",
    "    @title = title\n",
    "    @content = content\n",
    "  end\n",
    "\n",
    "  def author\n",
    "    @author\n",
    "  end\n",
    "\n",
    "  def title\n",
    "    @title\n",
    "  end\n",
    "\n",
    "  def content\n",
    "    @content\n",
    "  end\n",
    "\n",
    "end\n",
    "article = Article.new(\"阿部\", \"Rubyの素晴らしさについて\", \"Awesome Ruby!\")\n",
    "puts \"著者: #{article.author}\"\n",
    "puts \"タイトル: #{article.title}\"\n",
    "puts \"本文: #{article.content}\""
   ]
  }
 ],
 "metadata": {
  "kernelspec": {
   "display_name": "Ruby 2.5.1",
   "language": "ruby",
   "name": "ruby"
  },
  "language_info": {
   "file_extension": ".rb",
   "mimetype": "application/x-ruby",
   "name": "ruby",
   "version": "2.5.1"
  }
 },
 "nbformat": 4,
 "nbformat_minor": 4
}
