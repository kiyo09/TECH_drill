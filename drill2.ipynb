{
 "cells": [
  {
   "cell_type": "markdown",
   "metadata": {},
   "source": [
    "# デイリードリル02"
   ]
  },
  {
   "cell_type": "markdown",
   "metadata": {},
   "source": [
    "### 問題"
   ]
  },
  {
   "cell_type": "markdown",
   "metadata": {},
   "source": [
    "#### これからのカリキュラムで、主に学ぶのはRuby,Ruby on Railsを使ったアプリケーション開発のスキルです。<br>他のプログラミング言語やフレームワークと比較して、RubyやRailsにはどのような特徴があるか、箇条書きで述べてください。"
   ]
  },
  {
   "cell_type": "markdown",
   "metadata": {},
   "source": [
    "### 解答"
   ]
  },
  {
   "cell_type": "markdown",
   "metadata": {},
   "source": [
    "#### Ruby\n",
    "- 記述量が少ない\n",
    "  \n",
    "  \n",
    "- オブジェクト指向\n",
    "  \n",
    "  \n",
    "- スクリプト言語(インタプリタ)  \n",
    "JavaやC言語と違いコンパイルする必要がありません。そのため、初心者でもプログラムの実行やデバッグを行うことが容易です。  \n",
    "コンパイル(コンピュータに解釈できる内容に翻訳する)  \n",
    "**インタプリタ方式の言語は、コンパイル方式に比べてどうしても遅くなってしまうという欠点**"
   ]
  },
  {
   "cell_type": "markdown",
   "metadata": {},
   "source": [
    "#### Ruby on Rails\n",
    "- MVCアーキテクチャ  \n",
    "Model、View、Controllerに分けて開発を行うことで、効率が良く、生産性の高い開発を実現できます。   \n",
    "<br>\n",
    "- DRY(Don’t Repeat Yourself)  \n",
    "DRY原則とは、同じこと（ソースコード）を繰り返し記述するのは避けよという意味  \n",
    "  \n",
    "  \n",
    "- CoC(Convention over Configuration)\n",
    "「Convention over Configuration（設定より規約）」という原則  \n",
    "あらかじめ用意された規約に従ってアプリケーションを開発することで、ソースコードの記述量を少なくすることができ、見やすいソースコードになります。\n",
    "\n"
   ]
  },
  {
   "cell_type": "markdown",
   "metadata": {},
   "source": [
    "### 答え"
   ]
  },
  {
   "cell_type": "markdown",
   "metadata": {},
   "source": [
    "＜Rubyの特徴＞\n",
    "・スクリプト言語である。\n",
    "\n",
    "プログラミング言語には、「コンパイラ言語」「スクリプト言語」と言われる部類の言語があります。\n",
    "人間が書いたコードを、機械が実行するには「翻訳」を行う必要がありますが、コンパイラ言語は事前に全て翻訳します。スクリプト言語では随時翻訳しつつ実行されます。\n",
    "この違いにより、スクリプト言語であるRubyはコンパイルが必要ないため開発しやすい反面、実行速度は遅めであるという特徴があります。\n",
    "\n",
    "・オブジェクト指向言語である\n",
    "\n",
    "Rubyはスクリプト言語ですが、最初からオブジェクト指向の言語として開発されました。そのため変更に強かったり、再利用しやすいコードを書きやすくなっています。\n",
    "\n",
    "・生産性が高い\n",
    "上記の理由から、Rubyはコードの記述量が少なくすんだりコンパイルの時間がかからないなど生産性が高いという特徴があります。そのため、フレームワークであるRailsと合わせて、短期間でプロダクト開発を進める必要があるスタートアップ企業で好まれて使用されています。\n",
    "\n",
    "＜Railsの特徴＞\n",
    "・言語としてRubyを使用しているため、比較的習得しやすい。\n",
    "\n",
    "・習得したスキルを広く活用できる\n",
    "言語によっては、使われているフレームワークが多数あります。例えばPHPを学んでも、それとは別に様々なフレームワークについても学ぶ必要があります。RubyについてはRailsがほぼ１択であるため、一度習得してしまえば幅広く活用することができます。\n",
    "\n",
    "・開発を効率化する仕組みが多数用意されているため生産性が高い\n",
    "Railsにはrails newをするだけでアプリの雛形を作成できたりActiveRecordによってSQL操作ができるなど、開発効率を高めてくれる仕組みが標準で組み込まれています。"
   ]
  },
  {
   "cell_type": "code",
   "execution_count": null,
   "metadata": {},
   "outputs": [],
   "source": []
  }
 ],
 "metadata": {
  "kernelspec": {
   "display_name": "Ruby 2.5.1",
   "language": "ruby",
   "name": "ruby"
  },
  "language_info": {
   "file_extension": ".rb",
   "mimetype": "application/x-ruby",
   "name": "ruby",
   "version": "2.5.1"
  }
 },
 "nbformat": 4,
 "nbformat_minor": 4
}
