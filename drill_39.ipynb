{
 "cells": [
  {
   "cell_type": "markdown",
   "metadata": {},
   "source": [
    "# デイリードリル39(改訂版)"
   ]
  },
  {
   "cell_type": "markdown",
   "metadata": {},
   "source": [
    "## 問題"
   ]
  },
  {
   "cell_type": "markdown",
   "metadata": {},
   "source": [
    "Railsアプリケーションのコントローラーに関して以下のコードをみてください。\n",
    "\n",
    "```\n",
    "class ApplicationController < ActionController::Base\n",
    "  before_action :configure_permitted_parameters , if: :devise_controller?\n",
    "\n",
    "  def configure_permitted_parameters\n",
    "    devise_parameter_sanitizer.permit(:sign_up, keys: [:nickname, :avatar])\n",
    "  end\n",
    "end\n",
    "```\n",
    "  \n",
    "このコードが何を実現しているのか説明してください。\n",
    "\n",
    "特に、この記述がApplicationControllerクラスに書いてあることに\n",
    "留意して、どのような動作になるのか解説を行なってください。"
   ]
  },
  {
   "cell_type": "markdown",
   "metadata": {},
   "source": [
    "## 解答"
   ]
  },
  {
   "cell_type": "markdown",
   "metadata": {},
   "source": [
    "ユーザーのパラメーターにavatarを追加する。\n"
   ]
  },
  {
   "cell_type": "markdown",
   "metadata": {},
   "source": [
    "## 模範解答"
   ]
  },
  {
   "cell_type": "markdown",
   "metadata": {},
   "source": [
    "ApplicationControllerを継承しているコントローラー（ranking, users, およびdevise用のコントローラー）内の全てのアクションが実行される前に、before_actionが実行される。\n",
    "\n",
    "もしそれがdeviseのコントローラーだったら（devise_controller?というメソッドの返り値がtrueだったら）configure_permitted_parametersを呼ぶ。\n",
    "\n",
    "configure_permitted_parametersの中で、devise_parameter_sanitizerが事項されるが、これはストロングパラメータのdevise版。サインアップ時に、nicknameとavatarカラムへの保存を許可する。\n",
    "\n",
    "（１ヶ所違うごとに-2点）\n",
    "\n",
    "<補足>\n",
    "deviseのコントローラーは、デフォルトではアプリケーション内に作成されません。興味がある方は、GitHubでソースコードを確認するとdeviseのコントローラーがApplictaionControllerを継承していることが確認できます。"
   ]
  }
 ],
 "metadata": {
  "kernelspec": {
   "display_name": "Ruby 2.5.1",
   "language": "ruby",
   "name": "ruby"
  },
  "language_info": {
   "file_extension": ".rb",
   "mimetype": "application/x-ruby",
   "name": "ruby",
   "version": "2.5.1"
  }
 },
 "nbformat": 4,
 "nbformat_minor": 4
}
