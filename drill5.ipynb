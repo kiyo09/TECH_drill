{
 "cells": [
  {
   "cell_type": "markdown",
   "metadata": {},
   "source": [
    "# デイリードリル05"
   ]
  },
  {
   "cell_type": "markdown",
   "metadata": {},
   "source": [
    "## 問題"
   ]
  },
  {
   "cell_type": "markdown",
   "metadata": {},
   "source": [
    "下記の仕様でメソッドの定義と呼び出しを行なってください。\n",
    "\n",
    "１ 「square」メソッドを定義し、引数で渡された整数を\n",
    "　　２乗した結果を返すコードを実装してください\n",
    "\n"
   ]
  },
  {
   "cell_type": "markdown",
   "metadata": {},
   "source": [
    "２ 上記のメソッドの「外側」にコードを追加し、実行した時に\n",
    "　　下記の文字列が表示されるようにしてください。\n",
    "\n",
    "　　<変数side_length に5を代入した場合>\n",
    "　　「１辺が5センチの正方形の面積は25c㎡です」\n",
    "\n",
    "　　<変数side_length に7を代入した場合>\n",
    "　　「１辺が7センチの正方形の面積は49c㎡です」"
   ]
  },
  {
   "cell_type": "markdown",
   "metadata": {},
   "source": [
    "## 解答"
   ]
  },
  {
   "cell_type": "code",
   "execution_count": 5,
   "metadata": {
    "scrolled": true
   },
   "outputs": [
    {
     "data": {
      "text/plain": [
       "\"「１辺が5センチの正方形の面積は25c㎡です」\""
      ]
     },
     "execution_count": 5,
     "metadata": {},
     "output_type": "execute_result"
    }
   ],
   "source": [
    "def square(side_length)\n",
    "  area = side_length**2\n",
    "  puts = \"「１辺が#{side_length}センチの正方形の面積は#{area}c㎡です」\"\n",
    "end\n",
    "\n",
    "square(5)"
   ]
  },
  {
   "cell_type": "markdown",
   "metadata": {},
   "source": [
    "## 模範解答"
   ]
  },
  {
   "cell_type": "code",
   "execution_count": 6,
   "metadata": {},
   "outputs": [
    {
     "name": "stdout",
     "output_type": "stream",
     "text": [
      "１辺が5センチの正方形の面積は25㎡です\n"
     ]
    }
   ],
   "source": [
    "def square(length)\n",
    " length ** 2\n",
    "end\n",
    "\n",
    "side_length = 5\n",
    "puts(\"１辺が#{side_length}センチの正方形の面積は#{square(side_length)}㎡です\")"
   ]
  },
  {
   "cell_type": "code",
   "execution_count": null,
   "metadata": {},
   "outputs": [],
   "source": []
  }
 ],
 "metadata": {
  "kernelspec": {
   "display_name": "Ruby 2.5.1",
   "language": "ruby",
   "name": "ruby"
  },
  "language_info": {
   "file_extension": ".rb",
   "mimetype": "application/x-ruby",
   "name": "ruby",
   "version": "2.5.1"
  }
 },
 "nbformat": 4,
 "nbformat_minor": 4
}
