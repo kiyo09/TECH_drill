{
 "cells": [
  {
   "cell_type": "markdown",
   "metadata": {},
   "source": [
    "# デイリードリル19"
   ]
  },
  {
   "cell_type": "markdown",
   "metadata": {},
   "source": [
    "## 問題"
   ]
  },
  {
   "cell_type": "markdown",
   "metadata": {},
   "source": [
    "次のwhile文と同じ実行結果になるfor文を書いてください。\n",
    "\n",
    "```\n",
    "num = 0\n",
    "while num < 100 do\n",
    "  puts num\n",
    "  num += 1\n",
    "end\n",
    "```\n",
    "\n",
    "Rubyにおける、クラスの継承についての問題です。以下の設問に対して自分の言葉で説明してください。\n",
    "\n",
    "⑴クラスの継承とは何か\n",
    "\n",
    "⑵クラスの継承はどのような場合に用いられるか、また継承することのメリットについて述べてください。\n",
    "\n",
    "⑶クラスの継承の実装方法について簡潔に説明してください。"
   ]
  },
  {
   "cell_type": "markdown",
   "metadata": {},
   "source": [
    "## 解答"
   ]
  },
  {
   "cell_type": "code",
   "execution_count": 1,
   "metadata": {},
   "outputs": [
    {
     "name": "stdout",
     "output_type": "stream",
     "text": [
      "0\n",
      "1\n",
      "2\n",
      "3\n",
      "4\n",
      "5\n",
      "6\n",
      "7\n",
      "8\n",
      "9\n",
      "10\n",
      "11\n",
      "12\n",
      "13\n",
      "14\n",
      "15\n",
      "16\n",
      "17\n",
      "18\n",
      "19\n",
      "20\n",
      "21\n",
      "22\n",
      "23\n",
      "24\n",
      "25\n",
      "26\n",
      "27\n",
      "28\n",
      "29\n",
      "30\n",
      "31\n",
      "32\n",
      "33\n",
      "34\n",
      "35\n",
      "36\n",
      "37\n",
      "38\n",
      "39\n",
      "40\n",
      "41\n",
      "42\n",
      "43\n",
      "44\n",
      "45\n",
      "46\n",
      "47\n",
      "48\n",
      "49\n",
      "50\n",
      "51\n",
      "52\n",
      "53\n",
      "54\n",
      "55\n",
      "56\n",
      "57\n",
      "58\n",
      "59\n",
      "60\n",
      "61\n",
      "62\n",
      "63\n",
      "64\n",
      "65\n",
      "66\n",
      "67\n",
      "68\n",
      "69\n",
      "70\n",
      "71\n",
      "72\n",
      "73\n",
      "74\n",
      "75\n",
      "76\n",
      "77\n",
      "78\n",
      "79\n",
      "80\n",
      "81\n",
      "82\n",
      "83\n",
      "84\n",
      "85\n",
      "86\n",
      "87\n",
      "88\n",
      "89\n",
      "90\n",
      "91\n",
      "92\n",
      "93\n",
      "94\n",
      "95\n",
      "96\n",
      "97\n",
      "98\n",
      "99\n"
     ]
    }
   ],
   "source": [
    "num = 0\n",
    "while num < 100 do\n",
    "  puts num\n",
    "  num += 1\n",
    "end"
   ]
  },
  {
   "cell_type": "markdown",
   "metadata": {},
   "source": []
  },
  {
   "cell_type": "markdown",
   "metadata": {},
   "source": [
    "⑴クラスの継承とは、あるクラスの特徴を引き継いで、新しいクラスを定義することを指します。"
   ]
  },
  {
   "cell_type": "markdown",
   "metadata": {},
   "source": [
    "⑵良く似た定義のクラスが複数ある際に、共通の特徴をまとめるのに役立ちます。\n",
    "例えば、野菜を表すVegitableクラス、肉を表すMeatクラス、魚を表すFishクラスを定義したい場合に、食べ物として共通の特徴をFoodクラスに定義しておき、Vegitableクラス、Meatクラス、FishクラスではFoodクラスを継承するといったケースが考えられます。\n",
    "\n",
    "継承を用いることによって、同じ特徴の定義を何回も書く必要がなくなり、親クラスにまとめることが可能になります。"
   ]
  },
  {
   "cell_type": "markdown",
   "metadata": {},
   "source": [
    "⑶class 子クラス名 < 親クラス名 と記述することで継承を表現できます.\n",
    "\n",
    "問(2)のMeatクラスの例で記述すると、下記のコードで「Foodクラスを継承したMeatクラス」を表現できます。\n",
    "\n",
    "class Meat < Food\n",
    "\n",
    "end"
   ]
  }
 ],
 "metadata": {
  "kernelspec": {
   "display_name": "Ruby 2.5.1",
   "language": "ruby",
   "name": "ruby"
  },
  "language_info": {
   "file_extension": ".rb",
   "mimetype": "application/x-ruby",
   "name": "ruby",
   "version": "2.5.1"
  }
 },
 "nbformat": 4,
 "nbformat_minor": 4
}
