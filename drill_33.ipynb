{
 "cells": [
  {
   "cell_type": "markdown",
   "metadata": {},
   "source": [
    "# デイリードリル33"
   ]
  },
  {
   "cell_type": "markdown",
   "metadata": {},
   "source": [
    "## 問題"
   ]
  },
  {
   "cell_type": "markdown",
   "metadata": {},
   "source": [
    "Railsを使わずにHTML, CSSでサイトを作成する際は、HTMLファイルからlinkタグを使ってCSSファイルを読み込む設定を記述します。\n",
    "\n",
    "しかし、Railsの場合各ビューでCSSの読み込みの設定を書く必要はありません。\n",
    "\n",
    "①なぜ必要なCSSやJavaScriptが読み込まれるのか、「アセットパイプライン」「Sprockets」「マニフェストファイル」という用語を用いて説明してください。\n",
    "\n",
    "②①を踏まえると、作成したCSSやJavaScriptのファイルはどこに配置すれば良いか説明してください。"
   ]
  },
  {
   "cell_type": "markdown",
   "metadata": {},
   "source": [
    "## 解答"
   ]
  },
  {
   "cell_type": "markdown",
   "metadata": {},
   "source": [
    "①Railsには**アセットパイプライン**という仕組みが用意されており、  \n",
    "複数のCSSやJavaScriptファイルは一つにまとめて圧縮される。  \n",
    "この機能は**Sprockets**というGemが担っている。  \n",
    "\n",
    "各ビューが表示される際、必ずapplication.html.erbが読み込まれるが、  \n",
    "その中にstylesheet_link_tagの記述があり、  \n",
    "それによってapp/assets/stylesheets/application.cssが呼び出される。\n",
    "\n",
    "application.cssは**マニフェストファイル**といわれ、  \n",
    "このファイルから各CSSファイルを呼び出す仕組みになっている。\n",
    "\n",
    "JavaScriptも同様。"
   ]
  },
  {
   "cell_type": "markdown",
   "metadata": {},
   "source": [
    "② cssの場合\n",
    "app/assets/stylesheets のフォルダにファイルを置く。\n",
    "\n",
    "JavaScriptの場合\n",
    "app/assets/javaScripts のフォルダに置く"
   ]
  },
  {
   "cell_type": "code",
   "execution_count": null,
   "metadata": {},
   "outputs": [],
   "source": []
  }
 ],
 "metadata": {
  "kernelspec": {
   "display_name": "Ruby 2.5.1",
   "language": "ruby",
   "name": "ruby"
  },
  "language_info": {
   "file_extension": ".rb",
   "mimetype": "application/x-ruby",
   "name": "ruby",
   "version": "2.5.1"
  }
 },
 "nbformat": 4,
 "nbformat_minor": 4
}
