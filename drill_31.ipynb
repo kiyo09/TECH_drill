{
 "cells": [
  {
   "cell_type": "markdown",
   "metadata": {},
   "source": [
    "# デイリードリル31"
   ]
  },
  {
   "cell_type": "markdown",
   "metadata": {},
   "source": [
    "## 問題"
   ]
  },
  {
   "cell_type": "markdown",
   "metadata": {},
   "source": [
    "ユーザーに数字を入力してもらい、その数の回数だけHello!と表示させるコードを記述してください。  \n",
    "  \n",
    "  以下の仕様にしたがってコードを記述してください。\n",
    "\n",
    "・Personクラスはプロパティ name, ageを持っている。\n",
    "・StudentクラスはPersonクラスを継承している。\n",
    "・Studentクラスにはintroduceメソッドが定義されている。実行すると\n",
    "　「私の名前は◯◯です。◯歳です」と表示がされる。\n",
    "・Studentクラスのインスタンスを作成し、introduceメソッドを実行する。"
   ]
  },
  {
   "cell_type": "markdown",
   "metadata": {},
   "source": [
    "## 解答"
   ]
  },
  {
   "cell_type": "code",
   "execution_count": 10,
   "metadata": {},
   "outputs": [
    {
     "name": "stdout",
     "output_type": "stream",
     "text": [
      "hello\n",
      "hello\n",
      "hello\n",
      "hello\n",
      "hello\n"
     ]
    },
    {
     "data": {
      "text/plain": [
       "1..5"
      ]
     },
     "execution_count": 10,
     "metadata": {},
     "output_type": "execute_result"
    }
   ],
   "source": [
    "\n",
    "def hello(num)\n",
    "  for num in 1..num do\n",
    "    puts \"hello\"\n",
    "  end\n",
    "end\n",
    "input = 5\n",
    "hello(input)"
   ]
  },
  {
   "cell_type": "code",
   "execution_count": 8,
   "metadata": {
    "scrolled": true
   },
   "outputs": [
    {
     "name": "stdout",
     "output_type": "stream",
     "text": [
      "hello\n",
      "hello\n",
      "hello\n"
     ]
    },
    {
     "data": {
      "text/plain": [
       "3"
      ]
     },
     "execution_count": 8,
     "metadata": {},
     "output_type": "execute_result"
    }
   ],
   "source": [
    "def hello(num)\n",
    "  num.times do\n",
    "    puts \"hello\"\n",
    "  end\n",
    "end\n",
    "  \n",
    "input = 3\n",
    "hello(input)"
   ]
  },
  {
   "cell_type": "code",
   "execution_count": 16,
   "metadata": {},
   "outputs": [
    {
     "name": "stdout",
     "output_type": "stream",
     "text": [
      "「私の名前は俺です。18歳です」\n"
     ]
    }
   ],
   "source": [
    "class Person\n",
    "  def initialize(name, age)\n",
    "    @name = name\n",
    "    @age = age\n",
    "  end\n",
    "end\n",
    "\n",
    "\n",
    "class Student < Person\n",
    "  def introduce\n",
    "    puts \"「私の名前は#{@name}です。#{@age}歳です」\"\n",
    "  end\n",
    "end\n",
    "\n",
    "student = Student.new(\"俺\",\"18\")\n",
    "student.introduce"
   ]
  },
  {
   "cell_type": "markdown",
   "metadata": {},
   "source": [
    "## 模範解答"
   ]
  },
  {
   "cell_type": "code",
   "execution_count": 13,
   "metadata": {},
   "outputs": [
    {
     "name": "stdout",
     "output_type": "stream",
     "text": [
      "何回表示させますか？\n"
     ]
    },
    {
     "data": {
      "text/plain": [
       "0"
      ]
     },
     "execution_count": 13,
     "metadata": {},
     "output_type": "execute_result"
    }
   ],
   "source": [
    "def output(num)\n",
    "  num.times{ puts \"Hello!\" }\n",
    "end\n",
    "\n",
    "puts \"何回表示させますか？\"\n",
    "num = gets.to_i\n",
    "output(num)\n"
   ]
  }
 ],
 "metadata": {
  "kernelspec": {
   "display_name": "Ruby 2.5.1",
   "language": "ruby",
   "name": "ruby"
  },
  "language_info": {
   "file_extension": ".rb",
   "mimetype": "application/x-ruby",
   "name": "ruby",
   "version": "2.5.1"
  }
 },
 "nbformat": 4,
 "nbformat_minor": 4
}
