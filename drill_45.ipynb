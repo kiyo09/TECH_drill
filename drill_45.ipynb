{
 "cells": [
  {
   "cell_type": "markdown",
   "metadata": {},
   "source": [
    "# デイリードリル45(改訂版)"
   ]
  },
  {
   "cell_type": "markdown",
   "metadata": {},
   "source": [
    "## 問題"
   ]
  },
  {
   "cell_type": "markdown",
   "metadata": {},
   "source": [
    "以下のようなコントローラがあるとします。\n",
    "```\n",
    "class ArticlesController < ApplicationController\n",
    "\n",
    "  def show\n",
    "    article = Article.find(params[:id])\n",
    "  end\n",
    "end\n",
    "```\n",
    "このとき、以下の設問にお答えください。\n",
    "\n",
    "①showアクションの中にあるarticleという変数定義ですが、このままだとビューの表示を意図した通りに行うことができません。その理由と解決策を解説してください。\n",
    "\n",
    "②4行目のArticle.find(params[:id])という記述のうち、params[:id]には詳細表示されたいレコードのidが格納されます。なぜそのような動作になるのか、「rails routes」という言葉を使って説明してください。"
   ]
  },
  {
   "cell_type": "markdown",
   "metadata": {},
   "source": [
    "## 解答"
   ]
  },
  {
   "cell_type": "markdown",
   "metadata": {},
   "source": [
    "Railsではコントローラで設定された「インスタンス変数」がビューに渡される仕組みになっている。\n",
    "\n",
    "コードのarticleは通常のローカル変数であるためビューで使うことができない。そのため、articleを@articleに変更すればよい。"
   ]
  },
  {
   "cell_type": "markdown",
   "metadata": {},
   "source": [
    "rails routesを使ってアプリケーションのルーティングを確認すると、通常showアクションには以下のような設定がされている。\n",
    "\n",
    "Prefix Verb   URI Pattern                                   Controller#Action\n",
    "tweet  GET    /tweets/:id(.:format)                         tweets#show\n",
    "そのため、例えば「localhost:3000/tweets/3」というURLが指定されると、paramsの「:id」というキーのバリューとして「3」が代入される。\n",
    "\n",
    "そのため、そのあと呼び出されたコントローラー内でparams[:id]と取り出すことができる。"
   ]
  },
  {
   "cell_type": "code",
   "execution_count": null,
   "metadata": {},
   "outputs": [],
   "source": []
  }
 ],
 "metadata": {
  "kernelspec": {
   "display_name": "Python 3",
   "language": "python",
   "name": "python3"
  },
  "language_info": {
   "codemirror_mode": {
    "name": "ipython",
    "version": 3
   },
   "file_extension": ".py",
   "mimetype": "text/x-python",
   "name": "python",
   "nbconvert_exporter": "python",
   "pygments_lexer": "ipython3",
   "version": "3.7.6"
  }
 },
 "nbformat": 4,
 "nbformat_minor": 4
}
