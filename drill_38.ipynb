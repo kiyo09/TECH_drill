{
 "cells": [
  {
   "cell_type": "markdown",
   "metadata": {},
   "source": [
    "# デイリードリル38"
   ]
  },
  {
   "cell_type": "markdown",
   "metadata": {},
   "source": [
    "## 問題"
   ]
  },
  {
   "cell_type": "markdown",
   "metadata": {},
   "source": [
    "routes.rbでは、resourcesを使ってルーティングを定義することをお伝えしてきました。ところで、resourcesの代わりにresourceを使ってルーティングを定義することもできます。resourceを利用した際に生成されるルーティングについて、resourcesを用いた場合との主な違いを2点、説明してください。"
   ]
  },
  {
   "cell_type": "markdown",
   "metadata": {},
   "source": [
    "## 解答"
   ]
  },
  {
   "cell_type": "markdown",
   "metadata": {},
   "source": [
    "一覧表示であるindexがありましたが、resourceの場合は、indexの定義がされません。プロフィールは必ずログイン中のユーザーに紐付くので、「:id」による絞り込みも必要なくなります。"
   ]
  },
  {
   "cell_type": "markdown",
   "metadata": {},
   "source": [
    "## 模範解答"
   ]
  },
  {
   "cell_type": "markdown",
   "metadata": {},
   "source": [
    "次の２つの違いがある。\n",
    "\n",
    "・idつきのパスが生成されない。show, editアクションの実行に、idが必要ない場合に有効。\n",
    "\n",
    "・indexアクション用のルーティングが生成されない。"
   ]
  },
  {
   "cell_type": "markdown",
   "metadata": {},
   "source": [
    "resource :users\n",
    "\n",
    "#生成されるルーティング  \n",
    " new_users GET    /users/new(.:format)  users#new  \n",
    "edit_users GET    /users/edit(.:format) users#edit  \n",
    "     users GET    /users(.:format)      users#show  \n",
    "           PATCH  /users(.:format)      users#update  \n",
    "           PUT    /users(.:format)      users#update  \n",
    "           DELETE /users(.:format)      users#destroy  \n",
    "           POST   /users(.:format)      users#create  \n"
   ]
  },
  {
   "cell_type": "code",
   "execution_count": null,
   "metadata": {},
   "outputs": [],
   "source": []
  }
 ],
 "metadata": {
  "kernelspec": {
   "display_name": "Ruby 2.5.1",
   "language": "ruby",
   "name": "ruby"
  },
  "language_info": {
   "file_extension": ".rb",
   "mimetype": "application/x-ruby",
   "name": "ruby",
   "version": "2.5.1"
  }
 },
 "nbformat": 4,
 "nbformat_minor": 4
}
